{
 "cells": [
  {
   "cell_type": "markdown",
   "metadata": {
    "colab_type": "text",
    "deletable": true,
    "editable": true,
    "id": "DyznzL8W2WDt"
   },
   "source": [
    "NumPy (SciPy) Workshop - 20 July 2018"
   ]
  },
  {
   "cell_type": "markdown",
   "metadata": {
    "colab_type": "text",
    "deletable": true,
    "editable": true,
    "id": "xJ1k-vir2pTm"
   },
   "source": [
    "# Import NumPy <br>\n",
    "NumPy is an external library; traditionally imported as 'np'"
   ]
  },
  {
   "cell_type": "code",
   "execution_count": 1,
   "metadata": {
    "colab": {
     "autoexec": {
      "startup": false,
      "wait_interval": 0
     }
    },
    "colab_type": "code",
    "collapsed": false,
    "deletable": true,
    "editable": true,
    "id": "AYgwYUQw2cZw"
   },
   "outputs": [
    {
     "name": "stdout",
     "output_type": "stream",
     "text": [
      "Numpy version: 1.13.3\n",
      "Python version: 3.5.2 |Enthought, Inc. (x86_64)| (default, Mar  2 2017, 16:37:47) [MSC v.1900 64 bit (AMD64)]\n"
     ]
    }
   ],
   "source": [
    "# Import\n",
    "import numpy as np\n",
    "import sys #Also import sys to check python version\n",
    "\n",
    "print (\"Numpy version:\", np.__version__)\n",
    "print (\"Python version:\", sys.version)"
   ]
  },
  {
   "cell_type": "markdown",
   "metadata": {},
   "source": [
    "# What is NumPy (and SciPy)?\n",
    "NumPy is the fundamental package for scientific computing with Python. It contains among other things: <br> <br>\n",
    "\n",
    "-a powerful N-dimensional *array* object <br>\n",
    "-fast, parallelized math functions <br>\n",
    "-tools for integrating C/C++ and Fortran code <br>\n",
    "-useful linear algebra, Fourier transform, and random number capabilities <br> <br>\n",
    "\n",
    "NumPy was originally forked (derived) from SciPy, so that one could avoid importing the large SciPy package just to get an array object; therefore, it contains many redundancies with SciPy, but is also incomplete with regards to some functionality. <br> <br>\n",
    "\n",
    "Broadly speaking, NumPy is the basis for the scientific computing and data science stacks in Python, including SciPy and Pandas. <br>"
   ]
  },
  {
   "cell_type": "markdown",
   "metadata": {
    "colab_type": "text",
    "deletable": true,
    "editable": true,
    "id": "CEe2L6ta3cDl"
   },
   "source": [
    "# Arrays <br>"
   ]
  },
  {
   "cell_type": "markdown",
   "metadata": {
    "colab_type": "text",
    "deletable": true,
    "editable": true,
    "id": "3RSNQSstmAvg"
   },
   "source": [
    "The fundamental 'object' in NumPy is the *array* <br>\n",
    "Compared to default Python, *lists* $\\approx$ *arrays*, except every element of an *array* **must be of the same type** <br>"
   ]
  },
  {
   "cell_type": "code",
   "execution_count": 2,
   "metadata": {
    "colab": {
     "autoexec": {
      "startup": false,
      "wait_interval": 0
     }
    },
    "colab_type": "code",
    "collapsed": false,
    "deletable": true,
    "editable": true,
    "id": "a-GpWzzN4T7c"
   },
   "outputs": [
    {
     "name": "stdout",
     "output_type": "stream",
     "text": [
      "l1 is of class 'list'\n",
      "a1 is of class 'numpy.ndarray'\n",
      "l2 is of class 'list'\n",
      "a2 is of class 'numpy.ndarray'\n",
      "It is True that a1 is identical to a2\n"
     ]
    }
   ],
   "source": [
    "# Arrays can be created from lists...\n",
    "l1 = [1, 2, 3, 4]\n",
    "a1 = np.array(l1)\n",
    "a1.reshape(4,1)\n",
    "print('l1 is of ' + str(type(l1))[1:-1])\n",
    "print('a1 is of ' + str(type(a1))[1:-1])\n",
    "\n",
    "# Or lists can be created from arrays...\n",
    "a2 = np.array([1, 2, 3, 4])\n",
    "l2 = list(a2)\n",
    "a2.reshape(1,4)\n",
    "print('l2 is of ' + str(type(l2))[1:-1])\n",
    "print('a2 is of ' + str(type(a2))[1:-1])\n",
    "\n",
    "print('It is ' + str(np.all(a1 == a2)) + #np.all is described later\n",
    "      ' that a1 is identical to a2') "
   ]
  },
  {
   "cell_type": "markdown",
   "metadata": {
    "colab_type": "text",
    "deletable": true,
    "editable": true,
    "id": "a5Ix2_pW-Ws0"
   },
   "source": [
    "But, again, all elements of an *array* must be of the same type! <br>\n",
    "\n",
    "So, if you feed an array something of mixed data type, it will force everything into one type and normal math operations may not function\n",
    "\n"
   ]
  },
  {
   "cell_type": "code",
   "execution_count": 3,
   "metadata": {
    "colab": {
     "autoexec": {
      "startup": false,
      "wait_interval": 0
     }
    },
    "colab_type": "code",
    "collapsed": false,
    "deletable": true,
    "editable": true,
    "id": "hmJBY5Qo-xJ7"
   },
   "outputs": [
    {
     "name": "stdout",
     "output_type": "stream",
     "text": [
      "22 does not equal 4\n",
      "This is because in a NumPy array, \"2\" is being treated as <class 'numpy.str_'>\n",
      "In the list, \"2\" remains <class 'int'>\n"
     ]
    },
    {
     "data": {
      "text/plain": [
       "array(['test', '2', '3', '4'],\n",
       "      dtype='<U4')"
      ]
     },
     "execution_count": 3,
     "metadata": {},
     "output_type": "execute_result"
    }
   ],
   "source": [
    "l3 = ['test', 2, 3, 4] # a list with mixed type\n",
    "a3 = np.array(l3) # a numpy array from the list of mixed type\n",
    "print(str(a3[1]*2) + ' does not equal ' + str(l3[1]*2))\n",
    "print('This is because in a NumPy array, \"2\" is being treated as ' +\n",
    "      str(type(a3[1]))) \n",
    "print('In the list, \"2\" remains ' +\n",
    "      str(type(l3[1])))\n",
    "a3 #full output, unsuppressed"
   ]
  },
  {
   "cell_type": "markdown",
   "metadata": {
    "colab_type": "text",
    "deletable": true,
    "editable": true,
    "id": "7Jfbdmx3Agn9"
   },
   "source": [
    "Note the 'dtype' output in the full description of the 'a3' array above <br>\n",
    "'dtype' = data type <br>\n",
    "'dtype' is both a standalone class object in numpy (see [Data Type Objects](https://docs.scipy.org/doc/numpy-1.14.0/reference/arrays.dtypes.html) and [np.dtype](https://docs.scipy.org/doc/numpy-1.14.0/reference/generated/numpy.dtype.html) ) and an attribute of an *array* ('a4.dtype', for ex) describing the **datatype of the elements in that array**<br>\n",
    "There are various defaults for assigning datatypes to arrays without returning errors (as in the above, a mixed *string* and *int* list was converted to unicode; two floats of different accuracy will be converted to the one of higher accuracy, etc.)<br>\n",
    "See [Data Types](https://docs.scipy.org/doc/numpy-1.13.0/user/basics.types.html) for a concise list of datatypes <br> <br>\n",
    "\n",
    "If you want to be explicit about your *array*  datatype, you can call *dtype* when forming an *array*"
   ]
  },
  {
   "cell_type": "code",
   "execution_count": 4,
   "metadata": {
    "colab": {
     "autoexec": {
      "startup": false,
      "wait_interval": 0
     }
    },
    "colab_type": "code",
    "collapsed": false,
    "deletable": true,
    "editable": true,
    "id": "i_y7fMezC27v"
   },
   "outputs": [
    {
     "name": "stdout",
     "output_type": "stream",
     "text": [
      "It is True that both a4 and a1 are arrays of <class 'numpy.ndarray'>\n",
      "The elements in the original array a1 wereint32\n",
      "The elements in a4 were \"cast\" into float64\n"
     ]
    }
   ],
   "source": [
    "a4 = np.array([1, 2, 3, 4], dtype=float) #note: could be 'float64'\n",
    "print('It is ' + str(type(a4) == type(a1)) +\n",
    "      ' that both a4 and a1 are arrays of ' + str(type(a4)))\n",
    "print('The elements in the original array a1 were' + str((a1[0]).dtype))\n",
    "print('The elements in a4 were \"cast\" into ' + str((a4[0]).dtype))"
   ]
  },
  {
   "cell_type": "markdown",
   "metadata": {
    "colab_type": "text",
    "deletable": true,
    "editable": true,
    "id": "Oru6qQPhKCl9"
   },
   "source": [
    "Note: though at times one can simply recast the dtype with (for example)\n",
    "\n",
    "```\n",
    "a4.dtype = 'np.int'\n",
    "```\n",
    "The safer and more consistent way to recast dtype is with the *array* method *array*.astype\n",
    "```\n",
    "a4.astype(np.int)\n",
    "```\n",
    "as done in the code below"
   ]
  },
  {
   "cell_type": "code",
   "execution_count": 5,
   "metadata": {
    "colab": {
     "autoexec": {
      "startup": false,
      "wait_interval": 0
     }
    },
    "colab_type": "code",
    "collapsed": false,
    "deletable": true,
    "editable": true,
    "id": "s1tXN67QKAaf"
   },
   "outputs": [
    {
     "name": "stdout",
     "output_type": "stream",
     "text": [
      "a4 is [ 1.  2.  3.  4.]\n",
      "elements of a4 are of type float64\n",
      "Though the elements can be cast back into the original form with dtype,\n",
      "in this case they're re-written (as a copy) onto the original with astype\n",
      "a4 is now [1 2 3 4]\n",
      "elements of a4 are now of type int32\n"
     ]
    }
   ],
   "source": [
    "a4 = np.array([1, 2, 3, 4], dtype=float)\n",
    "print('a4 is ' + str(a4))\n",
    "print('elements of a4 are of type ' + str(a4.dtype))\n",
    "print('Though the elements can be cast back into the original form with dtype,')\n",
    "print('in this case they\\'re re-written (as a copy) onto the original with astype')\n",
    "a4 = a4.astype(np.int)\n",
    "print('a4 is now ' + str(a4))\n",
    "print('elements of a4 are now of type ' + str(a4.dtype))"
   ]
  },
  {
   "cell_type": "markdown",
   "metadata": {
    "colab_type": "text",
    "deletable": true,
    "editable": true,
    "id": "LKsKm-00Low-"
   },
   "source": [
    "The above example with ```array.astype(...)``` utilizes the concept of 'copying' an array<br>\n",
    "It is worth noting that,  like Python lists, **arrays are not immutable** <br>\n",
    "When an new array is made from another array, for example, it points directly to that original array <br>\n",
    "And when that new array is modified, that old array is modified as well <br>\n",
    "You can use [*array*.copy()](https://docs.scipy.org/doc/numpy-1.14.0/reference/generated/numpy.copy.html) to be safer <br>"
   ]
  },
  {
   "cell_type": "code",
   "execution_count": 6,
   "metadata": {
    "colab": {
     "autoexec": {
      "startup": false,
      "wait_interval": 0
     }
    },
    "colab_type": "code",
    "collapsed": false,
    "deletable": true,
    "editable": true,
    "id": "HQ_91SilNhX1"
   },
   "outputs": [
    {
     "name": "stdout",
     "output_type": "stream",
     "text": [
      "The array a4 is\n",
      "[1 2 3 4]\n",
      "After modifying the last element of a5, both a5 and a4 are\n",
      "[1 2 3 5]\n",
      "After modifying the last element of a5c, a copy of a4, a4 is the same\n",
      "[1 2 3 4]\n"
     ]
    }
   ],
   "source": [
    "a5 = a4\n",
    "print('The array a4 is')\n",
    "print(a4)\n",
    "a5[-1] = int(5)\n",
    "print('After modifying the last element of a5, both a5 and a4 are')\n",
    "print(a4)\n",
    "a4 = np.array([1, 2, 3, 4], dtype=int)\n",
    "a5c = a4.copy()\n",
    "a5c[-1] = int(5)\n",
    "print('After modifying the last element of a5c, a copy of a4, a4 is the same')\n",
    "print(a4)"
   ]
  },
  {
   "cell_type": "markdown",
   "metadata": {
    "colab_type": "text",
    "deletable": true,
    "editable": true,
    "id": "JzJRdtSJOpmL"
   },
   "source": [
    "Okay-- <br>\n",
    "Everything we have done so far with one-dimensional *arrays* is basically identical to Python *lists*...<br>\n",
    "One of the well-known benefits of NumPy, however, is more computationally efficient operations (it better exploits *C*). This extends even to 1-D arrays vs lists--but it is most obvious with large arrays"
   ]
  },
  {
   "cell_type": "markdown",
   "metadata": {
    "deletable": true,
    "editable": true
   },
   "source": [
    "Here is an example highlighting the difference between Python's built-in ```range()``` and ```np.arange()```"
   ]
  },
  {
   "cell_type": "code",
   "execution_count": 7,
   "metadata": {
    "colab": {
     "autoexec": {
      "startup": false,
      "wait_interval": 0
     }
    },
    "colab_type": "code",
    "collapsed": false,
    "deletable": true,
    "editable": true,
    "id": "jmHwWfE_Ou6S"
   },
   "outputs": [
    {
     "name": "stdout",
     "output_type": "stream",
     "text": [
      "range() loop-index example timed\n",
      "1 loop, best of 3: 1.46 s per loop\n",
      "np.arange() loop-index example timed\n",
      "1 loop, best of 3: 799 ms per loop\n",
      "range() math example timed\n",
      "10 loops, best of 3: 95.7 ms per loop\n",
      "np.arange() math example timed\n",
      "100 loops, best of 3: 9.75 ms per loop\n"
     ]
    }
   ],
   "source": [
    "#modified from https://stackoverflow.com/questions/10698858/built-in-range-or-numpy-arange-which-is-more-efficient\n",
    "\n",
    "time_size = int(1E6)\n",
    "\n",
    "# Loop index example\n",
    "print('range() loop-index example timed')\n",
    "%timeit for x in range(time_size): x ** 2\n",
    "#out: 1 loop, best of 3: 287 ms per loop\n",
    "print('np.arange() loop-index example timed')\n",
    "%timeit for x in np.arange(time_size): x ** 2\n",
    "#out: 1 loop, best of 3: 162 ms per loop\n",
    "\n",
    "# Math example\n",
    "print('range() math example timed')\n",
    "%timeit list(range(time_size)) * 2\n",
    "#out: 10 loops, best of 3: 49.7 ms per loop\n",
    "print('np.arange() math example timed')\n",
    "%timeit np.arange(time_size) * 2\n",
    "#out: 1000 loops, best of 3: 1.87 ms per loop"
   ]
  },
  {
   "cell_type": "markdown",
   "metadata": {
    "colab_type": "text",
    "deletable": true,
    "editable": true,
    "id": "1zXxRoaLLPye"
   },
   "source": [
    "So, [np.arange](https://docs.scipy.org/doc/numpy-1.14.0/reference/generated/numpy.arange.html) is **faster** Python's built-in [range](https://docs.python.org/3/library/functions.html#func-range), even when used just for building a loop index--use it whenever you have already imported NumPy! <br>\n",
    "When used for a straight-forward mathematical operation, it is **way faster** <br> \n",
    "Note: in the above example,\n",
    "\n",
    "```\n",
    "%timeit\n",
    "```\n",
    "\n",
    "is 'iPython magic' -- these functions are beyond the scope of this workshop, but as they have default and modifiable integration into Jupyter notebooks, they are worth reading about. <br>\n",
    "<br>\n",
    "For more information, see [Built-in Magic Commands](http://ipython.readthedocs.io/en/stable/interactive/magics.html)"
   ]
  },
  {
   "cell_type": "markdown",
   "metadata": {
    "colab_type": "text",
    "deletable": true,
    "editable": true,
    "id": "HhM2bfZuP1DA"
   },
   "source": [
    "##Exercise 1\n",
    "Using [np.linspace](https://docs.scipy.org/doc/numpy-1.14.0/reference/generated/numpy.linspace.html), create an *array* with *dtype* ```int``` of length 1 million (1E6) evenly spaced between '0' and '1E6,'' with '0' omitted. That is, $[1, 2, 3, ... 1*10^6]$ <br>\n",
    "\n",
    "Bonus: use *%timeit* to compare how long it takes to create this *array* VS. how long it takes to create a *list* with the same elements from Python's built-in *range* function.\n",
    "\n",
    "Hint: You may need to index for the *range* function to omit '0'"
   ]
  },
  {
   "cell_type": "code",
   "execution_count": 8,
   "metadata": {
    "colab": {
     "autoexec": {
      "startup": false,
      "wait_interval": 0
     }
    },
    "colab_type": "code",
    "collapsed": false,
    "deletable": true,
    "editable": true,
    "id": "dtOT6VjmQQk6"
   },
   "outputs": [
    {
     "name": "stdout",
     "output_type": "stream",
     "text": [
      "[      1       2       3 ...,  999998  999999 1000000]\n",
      "10 loops, best of 3: 18.9 ms per loop\n",
      "10 loops, best of 3: 96.8 ms per loop\n"
     ]
    }
   ],
   "source": [
    "million = np.linspace(1,time_size,num=time_size, dtype=int)\n",
    "print((million))\n",
    "\n",
    "%timeit np.linspace(1,time_size,num=time_size, dtype=int)\n",
    "#out: 100 loops, best of 3: 4.33 ms per loop\n",
    "\n",
    "size_thousand = 1001\n",
    "%timeit list(range(time_size))[1:]\n",
    "#out: 10 loops, best of 3: 41.6 ms per loop"
   ]
  },
  {
   "cell_type": "markdown",
   "metadata": {
    "colab_type": "text",
    "deletable": true,
    "editable": true,
    "id": "2CFYEAjtv7-x"
   },
   "source": [
    "## NumPy Speed-up, In General\n"
   ]
  },
  {
   "cell_type": "markdown",
   "metadata": {
    "colab_type": "text",
    "deletable": true,
    "editable": true,
    "id": "Nxo8TYJmwMFG"
   },
   "source": [
    "More generically, NumPy will save computational (and coding) time if it replaces coding *loops* with *vectorized* (or any higher-dimensional) math.<br> <br>\n",
    "Here is an example comparing NumPy element-wise multiplication vs. loop-based indexing for element-wise multiplication "
   ]
  },
  {
   "cell_type": "code",
   "execution_count": 9,
   "metadata": {
    "colab": {
     "autoexec": {
      "startup": false,
      "wait_interval": 0
     }
    },
    "colab_type": "code",
    "collapsed": false,
    "deletable": true,
    "editable": true,
    "id": "kWLTo8cCxMBS"
   },
   "outputs": [
    {
     "name": "stdout",
     "output_type": "stream",
     "text": [
      "The array\n",
      "[[ 1.  2.  3.]]\n",
      "The array a40 * a40 (squared) is \n",
      "[[ 1.  4.  9.]]\n",
      "%timeit of the operation is\n",
      "The slowest run took 22.55 times longer than the fastest. This could mean that an intermediate result is being cached.\n",
      "100000 loops, best of 3: 1.13 µs per loop\n",
      "The array l40[i] * l40[i] for i in len(l40) (squared) is \n",
      "[1.0, 4.0, 9.0]\n",
      "100000 loops, best of 3: 8.49 µs per loop\n"
     ]
    }
   ],
   "source": [
    "#modified from https://stackoverflow.com/questions/47755442/what-is-vectorization\n",
    "a40 = np.array([[1., 2., 3.]])\n",
    "print('The array')\n",
    "print(a40)\n",
    "# By default all arithmetic operators (like *) in NumPy are element-wise\n",
    "a4040 = a40 * a40\n",
    "print('The array a40 * a40 (squared) is ')\n",
    "print(a4040)\n",
    "print('%timeit of the operation is')\n",
    "%timeit a40 * a40\n",
    "# out: 1.19 microsec (with cached)\n",
    "# Compare this to python math with loops to complete element wise\n",
    "l40 = a40.tolist()[0]\n",
    "sq = [0., 0., 0.] # pre-allocate empty list (for speed)\n",
    "def square(lst,empty):\n",
    "  for i in np.arange(len(l40)): #use np.arange, even (still slower)!\n",
    "    empty[i] = l40[i] * l40[i]\n",
    "  return empty\n",
    "sq = square(l40,sq)\n",
    "print('The array l40[i] * l40[i] for i in len(l40) (squared) is ')\n",
    "print(sq)\n",
    "%timeit square(l40,sq)\n",
    "#out: 6.5 microsec (with cached)"
   ]
  },
  {
   "cell_type": "markdown",
   "metadata": {
    "colab_type": "text",
    "deletable": true,
    "editable": true,
    "id": "NZ8QgAxv6AM9"
   },
   "source": [
    "So in general, if you want to speed up your code with NumPy, **avoid loops at all cost**. This includes list-comprehensions (which are loops)--these are included in this workshop for brevity, not for speed."
   ]
  },
  {
   "cell_type": "markdown",
   "metadata": {
    "colab_type": "text",
    "deletable": true,
    "editable": true,
    "id": "FsnrfyCT4PoM"
   },
   "source": [
    "Note: **Do not expect a non-element-wise operator from the default arithmetic operators.** <br>\n",
    "A common confusion with non-element-wise operations is regarding ```*``` vs. the *dot product*, which is actually given by [np.dot(...)](https://docs.scipy.org/doc/numpy/reference/generated/numpy.dot.html); <br>\n",
    "However, since row and column dimensions are important for linear opertors, you should first understand NumPy array dimensionality (that is, *shape*) to use *np.dot(...)*"
   ]
  },
  {
   "cell_type": "markdown",
   "metadata": {
    "colab_type": "text",
    "deletable": true,
    "editable": true,
    "id": "3U1a21ojRNAM"
   },
   "source": [
    "# Multidimensional Arrays (and Matrices)"
   ]
  },
  {
   "cell_type": "markdown",
   "metadata": {
    "colab_type": "text",
    "deletable": true,
    "editable": true,
    "id": "WOue93dsqXaV"
   },
   "source": [
    "You may have noticed earlier, that the *type* of an *array* is\n",
    "\n",
    "```\n",
    "numpy.ndarray\n",
    "```\n",
    "What is an 'ndarray'?<br>\n",
    "This refers to NumPy's exceptional ability to build and perform math on *arrays* of arbitrary (*N*) dimensionality. <br>\n",
    "In more concrete terms: <br>\n",
    "a vector is a 1-D array (as we have been working with) <br>\n",
    "\n",
    "\n",
    "\n"
   ]
  },
  {
   "cell_type": "code",
   "execution_count": 10,
   "metadata": {
    "colab": {
     "autoexec": {
      "startup": false,
      "wait_interval": 0
     }
    },
    "colab_type": "code",
    "collapsed": false,
    "deletable": true,
    "editable": true,
    "id": "G_9HLGnWriXY"
   },
   "outputs": [
    {
     "name": "stdout",
     "output_type": "stream",
     "text": [
      "[1 2 3 4]\n"
     ]
    }
   ],
   "source": [
    "a6 = np.array([1, 2, 3, 4])\n",
    "print(a6)"
   ]
  },
  {
   "cell_type": "markdown",
   "metadata": {
    "colab_type": "text",
    "deletable": true,
    "editable": true,
    "id": "r7iCy1b7vX51"
   },
   "source": [
    "Note that every *array* has a *shape* attribute (tuple) that is tied to it. <br>\n",
    "By default, the dimensionality of a given array is as short as possible (1's omitted)"
   ]
  },
  {
   "cell_type": "code",
   "execution_count": 11,
   "metadata": {
    "colab": {
     "autoexec": {
      "startup": false,
      "wait_interval": 0
     }
    },
    "colab_type": "code",
    "collapsed": false,
    "deletable": true,
    "editable": true,
    "id": "DSOouJcXvgl3"
   },
   "outputs": [
    {
     "name": "stdout",
     "output_type": "stream",
     "text": [
      "The shape of a6 is\n",
      "(4,)\n"
     ]
    }
   ],
   "source": [
    "print('The shape of a6 is')\n",
    "print(a6.shape)"
   ]
  },
  {
   "cell_type": "markdown",
   "metadata": {
    "colab_type": "text",
    "deletable": true,
    "editable": true,
    "id": "_Yp8ClDPtRTW"
   },
   "source": [
    "In relation to 2-D matrix math (linear algebra): this 1-D array can be either a column vector or row vector <br>\n",
    "And the most generic  way to enforce the direction of the 1-D vector in 2-D space is with [*np.reshape(...)*](https://docs.scipy.org/doc/numpy-1.14.0/reference/generated/numpy.reshape.html) or with [*array.reshape(...)*](https://docs.scipy.org/doc/numpy-1.14.0/reference/generated/numpy.ndarray.reshape.html#numpy.ndarray.reshape); the latter having slightly easier syntax"
   ]
  },
  {
   "cell_type": "code",
   "execution_count": 12,
   "metadata": {
    "colab": {
     "autoexec": {
      "startup": false,
      "wait_interval": 0
     }
    },
    "colab_type": "code",
    "collapsed": false,
    "deletable": true,
    "editable": true,
    "id": "chHqbH36t7-G"
   },
   "outputs": [
    {
     "name": "stdout",
     "output_type": "stream",
     "text": [
      "Again, the shape of a6 is\n",
      "(4,)\n",
      "After reshaping to (4,1), a6 prints like this\n",
      "[[1]\n",
      " [2]\n",
      " [3]\n",
      " [4]]\n",
      "After reshaping to (1,4), a6 prints like this\n",
      "[[1 2 3 4]]\n"
     ]
    }
   ],
   "source": [
    "print('Again, the shape of a6 is')\n",
    "print(a6.shape)\n",
    "a6 = a6.reshape(4,1) # array.reshape automatically acts on a6\n",
    "print('After reshaping to (4,1), a6 prints like this')\n",
    "print(a6)\n",
    "a6 = np.reshape(a6,(1,4)) #np.reshape is wordy, must be directed at a6\n",
    "print('After reshaping to (1,4), a6 prints like this')\n",
    "print(a6)"
   ]
  },
  {
   "cell_type": "markdown",
   "metadata": {
    "colab_type": "text",
    "deletable": true,
    "editable": true,
    "id": "R4XE1p4f3h8f"
   },
   "source": [
    "# Note: Broadcasting, a perplexing default for element-wise operators\n",
    "Now that we've introduced the concept of *array* dimensionality and *shape*, it is worth mentioning that NumPy's ```*``` (and other element-wise operators) follow a strange rule called [broadcasting](https://docs.scipy.org/doc/numpy/user/basics.broadcasting.html) when given two arrays of differing *shapes*. <br>\n",
    "Of course, element-wise operations can only work if the shape of the *arrays* is the same in each dimension. If they are not, it will throw a \n",
    "\n",
    "```\n",
    "ValueError: frames are not aligned\n",
    "```\n",
    "\n",
    "\n",
    "However, **if one of the *array* dimensions is 1 (and the other is greater than 1), the array will be 'stretched' (*tiled*) to match the greater dimension** and the output will be of larger dimensionality than you might have anticipated!"
   ]
  },
  {
   "cell_type": "code",
   "execution_count": 66,
   "metadata": {
    "colab": {
     "autoexec": {
      "startup": false,
      "wait_interval": 0
     }
    },
    "colab_type": "code",
    "collapsed": false,
    "deletable": true,
    "editable": true,
    "id": "hk_X8Kqv3hXx"
   },
   "outputs": [
    {
     "name": "stdout",
     "output_type": "stream",
     "text": [
      "Because of broadcasting, the output is\n",
      "[[ 1  2  3  4]\n",
      " [ 2  4  6  8]\n",
      " [ 3  6  9 12]\n",
      " [ 4  8 12 16]]\n",
      "instead of (as you might have been trying to do)\n",
      "[[ 1]\n",
      " [ 4]\n",
      " [ 9]\n",
      " [16]]\n"
     ]
    }
   ],
   "source": [
    "a6_h = a6.reshape(4,1)\n",
    "a6_v = a6_h.T # .T short-hand is an 'attribute' of an array class, described below\n",
    "print('Because of broadcasting, the output is')\n",
    "print(a6_h * a6_v)\n",
    "print('instead of (as you might have been trying to do)')\n",
    "print(a6_h * a6_v.T)"
   ]
  },
  {
   "cell_type": "markdown",
   "metadata": {
    "colab_type": "text",
    "deletable": true,
    "editable": true,
    "id": "aXDm_RLmfGLf"
   },
   "source": [
    "## Aside: class attributes are useful; example Matrix Class\n",
    "Note, in the above example, [*array.T*](https://docs.scipy.org/doc/numpy-1.13.0/reference/generated/numpy.ndarray.T.html#numpy.ndarray.T) is an attribute of arrays utilized to perform a transpose (swapping of dimensions) as a short-hand. <br>\n",
    "This will only work *after* the second dimension has been defined by *array.reshape* <br>\n",
    "These attributes are powerful shorthand (we've already used *dtype* and *shape*) for items of class type *ndarray* <br>\n",
    "Another example attribute of *ndarray*s is [*array.real*](https://docs.scipy.org/doc/numpy-1.13.0/reference/generated/numpy.ndarray.real.html#numpy.ndarray.real) , which saves time when working with complex numbers in taking only the 'real' part of array"
   ]
  },
  {
   "cell_type": "code",
   "execution_count": 14,
   "metadata": {
    "colab": {
     "autoexec": {
      "startup": false,
      "wait_interval": 0
     }
    },
    "colab_type": "code",
    "collapsed": false,
    "deletable": true,
    "editable": true,
    "id": "DdH1DgYDhr0q"
   },
   "outputs": [
    {
     "name": "stdout",
     "output_type": "stream",
     "text": [
      "[ 3.+0.j   1.+0.j   4.+0.1j  1.+0.j   5.-2.j   9.+0.j   2.+0.j   6.+2.j\n",
      "  5.+0.j ]\n",
      "[ 3.  1.  4.  1.  5.  9.  2.  6.  5.]\n"
     ]
    }
   ],
   "source": [
    "a7 = np.array([3, 1, 4+0.1j, 1, 5-2j, 9, 2, 6+2j, 5])\n",
    "print(a7)\n",
    "print(a7.real)"
   ]
  },
  {
   "cell_type": "markdown",
   "metadata": {
    "colab_type": "text",
    "deletable": true,
    "editable": true,
    "id": "_0dOySNuhsAj"
   },
   "source": [
    "Similarly, in relation to matrix math (linear algebra), there is a special *array* class *matrix* which may be called to form a 2-D matrix with [np.mat](https://docs.scipy.org/doc/numpy-1.13.0/reference/generated/numpy.mat.html) <br>\n",
    "This [*matrix*](https://docs.scipy.org/doc/numpy-1.13.0/reference/generated/numpy.matrix.html#numpy.matrix) class will carry its own shorthand attributes that are useful <br>\n",
    "\n",
    "*matrix.T* = transpose\n",
    "\n",
    "*matrix.H* = Hermitian transpose (transpose with complex conjugate) A.H=transpose(A*)\n",
    "\n",
    "*matrix.I* = matrix inverse\n",
    "\n",
    "*matrix.A* = matrix as a basic ndarray\n",
    "\n",
    "*matrix.A1* = matrix as a one-dimensional ndarray"
   ]
  },
  {
   "cell_type": "code",
   "execution_count": 15,
   "metadata": {
    "colab": {
     "autoexec": {
      "startup": false,
      "wait_interval": 0
     }
    },
    "colab_type": "code",
    "collapsed": false,
    "deletable": true,
    "editable": true,
    "id": "VvzCw9gkhslW"
   },
   "outputs": [
    {
     "name": "stdout",
     "output_type": "stream",
     "text": [
      "<class 'numpy.matrixlib.defmatrix.matrix'>\n",
      "\n",
      " Transpose of A=\n",
      "[[ 3.+0.j   1.+0.j   2.+0.j ]\n",
      " [ 1.+0.j   5.-2.j   6.+2.j ]\n",
      " [ 4.+0.1j  9.+0.j   5.+0.j ]]\n",
      "\n",
      " Hermitian of A=\n",
      "[[ 3.-0.j   1.-0.j   2.-0.j ]\n",
      " [ 1.-0.j   5.+2.j   6.-2.j ]\n",
      " [ 4.-0.1j  9.-0.j   5.-0.j ]]\n",
      "\n",
      " Inverse of A=\n",
      "[[  3.64238411e-01+0.06622517j  -1.87468161e-01+0.03005604j\n",
      "    4.73764646e-02-0.11436577j]\n",
      " [ -9.93377483e-02+0.06622517j  -5.24707081e-02+0.03718798j\n",
      "    1.75241977e-01-0.11793174j]\n",
      " [ -8.20270509e-18-0.06622517j   1.52827305e-01-0.0356597j\n",
      "   -7.64136526e-02+0.1171676j ]]\n",
      "\n",
      " Standard ndarray=\n",
      "[[ 3.+0.j   1.+0.j   4.+0.1j]\n",
      " [ 1.+0.j   5.-2.j   9.+0.j ]\n",
      " [ 2.+0.j   6.+2.j   5.+0.j ]]\n",
      "\n",
      " One dimestional array of A=\n",
      "[ 3.+0.j   1.+0.j   4.+0.1j  1.+0.j   5.-2.j   9.+0.j   2.+0.j   6.+2.j\n",
      "  5.+0.j ]\n"
     ]
    }
   ],
   "source": [
    "#From Christina Maimone's (NU's Research Computing Services) '17 Numpy/Scipy \n",
    "A = np.mat([[3, 1, 4+0.1j], [1, 5-2j, 9], [2, 6+2j, 5]])\n",
    "\n",
    "print(type(A))\n",
    "\n",
    "A_tr = A.T\n",
    "A_H = A.H\n",
    "A_I = A.I\n",
    "A_A = A.A\n",
    "A_A1 = A.A1\n",
    "\n",
    "print('\\n Transpose of A=')\n",
    "print(A_tr)\n",
    "print('\\n Hermitian of A=')\n",
    "print(A_H)\n",
    "print('\\n Inverse of A=')\n",
    "print(A_I)\n",
    "print('\\n Standard ndarray=')\n",
    "print(A_A)\n",
    "print('\\n One dimestional array of A=')\n",
    "print(A_A1)"
   ]
  },
  {
   "cell_type": "markdown",
   "metadata": {
    "colab_type": "text",
    "deletable": true,
    "editable": true,
    "id": "-81Cj5EVsrlZ"
   },
   "source": [
    "## 2-D Arrays outside the Matrix Class\n",
    "In a non class-specific sense, a matrix can be thought of as a 2-D *array* where both of the dimensions are strictly greater than 1 <br>\n",
    "This can be formed from the get-go by bracketing comma-separated sets of bracket-ed *arrays* or it can be formed by *array.reshape(...)* on an *array* of different dimensionality <br>"
   ]
  },
  {
   "cell_type": "code",
   "execution_count": 16,
   "metadata": {
    "colab": {
     "autoexec": {
      "startup": false,
      "wait_interval": 0
     }
    },
    "colab_type": "code",
    "collapsed": false,
    "deletable": true,
    "editable": true,
    "id": "Jveht2OtsvuJ"
   },
   "outputs": [
    {
     "name": "stdout",
     "output_type": "stream",
     "text": [
      "A 2x2 matrix like\n",
      "[[3 3]\n",
      " [3 3]]\n",
      "has shape\n",
      "(2, 2)\n",
      "\n",
      " A 2x2 matrix formed by reshaping\n",
      "[[1 2]\n",
      " [3 4]]\n",
      "has shape\n",
      "(2, 2)\n"
     ]
    }
   ],
   "source": [
    "a8 = np.array([ [3, 3], [3, 3] ])\n",
    "print('A 2x2 matrix like')\n",
    "print(a8)\n",
    "print('has shape')\n",
    "print(a8.shape)\n",
    "\n",
    "a8 = a6.reshape(2,2)\n",
    "print('\\n A 2x2 matrix formed by reshaping')\n",
    "print(a8)\n",
    "print('has shape')\n",
    "print(a8.shape)"
   ]
  },
  {
   "cell_type": "markdown",
   "metadata": {
    "colab_type": "text",
    "deletable": true,
    "editable": true,
    "id": "IKJVMV5JSU83"
   },
   "source": [
    "Note that *array.reshape* only works if the dimensions multiply to the overall size of the array <br>\n",
    "That is, in the example above, $\\text{dimension 1 } (\\text{ex. } 2) * \\text{dimension 2 } (\\text{ex. } 2) = \\text{overall size } (\\text{ex. }4)$ <br>\n",
    "You can query the overall size of any *array* with the method [*array.size*](https://docs.scipy.org/doc/numpy-1.13.0/reference/generated/numpy.ndarray.size.html)"
   ]
  },
  {
   "cell_type": "code",
   "execution_count": 17,
   "metadata": {
    "colab": {
     "autoexec": {
      "startup": false,
      "wait_interval": 0
     }
    },
    "colab_type": "code",
    "collapsed": false,
    "deletable": true,
    "editable": true,
    "id": "i0y7VK5tdCc_"
   },
   "outputs": [
    {
     "name": "stdout",
     "output_type": "stream",
     "text": [
      "The overall size of a8 is\n",
      "4\n",
      "The relationship between dimension in np.shape and np.size is True\n"
     ]
    }
   ],
   "source": [
    "print('The overall size of a8 is')\n",
    "print(a8.size)\n",
    "print('The relationship between dimension in np.shape and np.size is ' +\n",
    "      str(a8.shape[0] * a8.shape[1] == a8.size))"
   ]
  },
  {
   "cell_type": "markdown",
   "metadata": {
    "colab_type": "text",
    "deletable": true,
    "editable": true,
    "id": "A73UYfH4RfCh"
   },
   "source": [
    "# Note: 'Length' vs 'size'\n",
    "\n",
    "The built-in Python function ```len``` **will only return the length of the first dimension of a NumPy *array* **<br>\n",
    "When working with any *array*, then, it is safer to use *np.shape* or the method *array.shape()*, and index this tuple to return the length in a specific dimension."
   ]
  },
  {
   "cell_type": "code",
   "execution_count": 18,
   "metadata": {
    "colab": {
     "autoexec": {
      "startup": false,
      "wait_interval": 0
     }
    },
    "colab_type": "code",
    "collapsed": false,
    "deletable": true,
    "editable": true,
    "id": "a1G6L8wmdgCz"
   },
   "outputs": [
    {
     "name": "stdout",
     "output_type": "stream",
     "text": [
      "It is False that the len function reads the 2nd dimension\n"
     ]
    }
   ],
   "source": [
    "a9 = a8.reshape(1,4)\n",
    "print('It is ' + str(len(a9) == a9.shape[1]) + \n",
    "      ' that the len function reads the 2nd dimension')"
   ]
  },
  {
   "cell_type": "markdown",
   "metadata": {
    "colab_type": "text",
    "deletable": true,
    "editable": true,
    "id": "3F0Dw6g-sv-d"
   },
   "source": [
    "In general, dimensionality can be stepped up to any arbitrary N-dimensions (as long as there are enough elements to satisfy to the overall shape) <br>\n",
    "For ex. a 'hypercube' or 'hyperplane' in *N*-dimensional 'hyperspace' will be of *N*-dimensions <br> <br>\n",
    "Perhaps the two most useful of all commands for creating *N-D arrays* is [np.repeat(...)](https://docs.scipy.org/doc/numpy-1.13.0/reference/generated/numpy.repeat.html#numpy.repeat) and [np.tile(...)](https://docs.scipy.org/doc/numpy-1.13.0/reference/generated/numpy.tile.html#numpy.tile)."
   ]
  },
  {
   "cell_type": "markdown",
   "metadata": {
    "colab_type": "text",
    "deletable": true,
    "editable": true,
    "id": "L1wsJX84l2OG"
   },
   "source": [
    "## Exercise 2\n",
    "\n",
    "Create an 4-dimensional array with ```np.repeat(...)``` and ```np.tile(...)``` <br>\n",
    "The array should be filled with *1*s and be of shape ```(4, 4, 4, 4)``` <br>\n",
    "Bonus: write a function to generalize this to return an array of 1s of shape (N, N, N, etc.) for any N-dimenionsal array"
   ]
  },
  {
   "cell_type": "code",
   "execution_count": 19,
   "metadata": {
    "colab": {
     "autoexec": {
      "startup": false,
      "wait_interval": 0
     }
    },
    "colab_type": "code",
    "collapsed": false,
    "deletable": true,
    "editable": true,
    "id": "X1FUmTwuu9Td"
   },
   "outputs": [
    {
     "name": "stdout",
     "output_type": "stream",
     "text": [
      "(4, 4, 4, 4)\n"
     ]
    }
   ],
   "source": [
    "#Exercise 2:\n",
    "\n",
    "a_4d = np.tile(np.repeat(1,4),(4,4,4,1))\n",
    "print(a_4d.shape)\n",
    "\n",
    "def ones(N):\n",
    "    np_tile_size = np.repeat(N, N-1)\n",
    "    np_tile_size = np.append(np_tile_size, 1)\n",
    "    array = np.tile(np.repeat(1,N),(np_tile_size))\n",
    "    return array"
   ]
  },
  {
   "cell_type": "markdown",
   "metadata": {
    "colab_type": "text",
    "deletable": true,
    "editable": true,
    "id": "EXJrAnAVndKs"
   },
   "source": [
    "In fact, there are already several NumPy functions for creating common *N*-dimensional arrays; [np.ones(...)](https://docs.scipy.org/doc/numpy/reference/generated/numpy.ones.html) does what we just did in exercise 2 (and more) <br>\n",
    "for example, [np.zeros](https://docs.scipy.org/doc/numpy/reference/generated/numpy.zeros.html) is useful for creating zero-filled *N-D arrays* which you might use to preallocate that *array* before you (*have* to) assign to it in a loop; <br>\n",
    "another example, [np.identity](https://docs.scipy.org/doc/numpy-1.14.0/reference/generated/numpy.identity.html) returns the square identity matrix $I$ which is useful in matrix math (for ex. it can be used to verify the inverse of a matrix as $ I = AA^{-1}$)"
   ]
  },
  {
   "cell_type": "code",
   "execution_count": 20,
   "metadata": {
    "colab": {
     "autoexec": {
      "startup": false,
      "wait_interval": 0
     }
    },
    "colab_type": "code",
    "collapsed": false,
    "deletable": true,
    "editable": true,
    "id": "WOHwjYSroEoc"
   },
   "outputs": [
    {
     "name": "stdout",
     "output_type": "stream",
     "text": [
      "It holds True that np.identity is euqal to A*A.inverse\n"
     ]
    }
   ],
   "source": [
    "A_test=A*A.I\n",
    "print('It holds ' +\n",
    "      str(np.all(np.all(np.isclose(A_test, np.identity(3)),axis=0))) + # Boolean operation np.all is described below\n",
    "     ' that np.identity is euqal to A*A.inverse')\n"
   ]
  },
  {
   "cell_type": "markdown",
   "metadata": {
    "colab_type": "text",
    "deletable": true,
    "editable": true,
    "id": "FBevWwxt-OxM"
   },
   "source": [
    "Note: The function [np.isclose](https://docs.scipy.org/doc/numpy/reference/generated/numpy.isclose.html) is useful for comparing whether two arrays or values are equal within a certain tolerance <br>\n",
    "For example, because of differences in floating point precision\n",
    "\n",
    "```\n",
    "array1 == array2\n",
    "```\n",
    "May return ```False``` even if the arrays are filled with floating point numbers while ```np.isclose(...)``` would return ```True```<br> <br>\n",
    "The above code could have been simplified to a single functional call of [np.allclose(...)](https://docs.scipy.org/doc/numpy/reference/generated/numpy.allclose.html#numpy.allclose), but bringing up ```np.all()``` gives us a reason to discuss Booleans in Numpy\n"
   ]
  },
  {
   "cell_type": "markdown",
   "metadata": {
    "colab_type": "text",
    "deletable": true,
    "editable": true,
    "id": "83WcP-CM-C_I"
   },
   "source": [
    "# NumPy Booleans"
   ]
  },
  {
   "cell_type": "markdown",
   "metadata": {
    "colab_type": "text",
    "deletable": true,
    "editable": true,
    "id": "7dYbUvBF_APK"
   },
   "source": [
    "But there is another reason you want to be careful using ```array1 == array2```<br>\n",
    "To understand this, let's analyze\n",
    "\n",
    "```\n",
    "print(np.all(np.all(np.isclose(A_test, np.identity(3)),axis=0)))\n",
    "```\n",
    "We discussed ```np.isclose(...)``` but not ```np.all(...)``` <br> <br>\n",
    "Just like there are NumPy functions for vector math on arrays, there are also NumPy for boolean interpretation of arrays. <br>\n",
    "The main take-home, though, is that **NumPy booleans are not Python booleans (and vice-versa)**--therefore **use [Numpy boolean functions](https://docs.scipy.org/doc/numpy-1.13.0/reference/routines.logic.html) instead of built-in boolean functions** (like ```or``` or ```in```) to stay out of trouble <br> <br>\n",
    "For example, [np.all(...)](https://docs.scipy.org/doc/numpy-1.13.0/reference/generated/numpy.all.html#numpy.all) in the example above tests whether all array elements along a given axis ('axis=0' in above ex.) evaluates to True. What if we did 'axis=1'?:\n",
    "\n"
   ]
  },
  {
   "cell_type": "code",
   "execution_count": 21,
   "metadata": {
    "colab": {
     "autoexec": {
      "startup": false,
      "wait_interval": 0
     }
    },
    "colab_type": "code",
    "collapsed": false,
    "deletable": true,
    "editable": true,
    "id": "zZ6jxlgbA2gY"
   },
   "outputs": [
    {
     "name": "stdout",
     "output_type": "stream",
     "text": [
      "np.isclose(...) is element-wise, returning a Matrix of the same shape\n",
      "[[ True  True  True]\n",
      " [ True  True  True]\n",
      " [ True  True  True]]\n",
      "Evaluating on the other axis...\n",
      "[[ True]\n",
      " [ True]\n",
      " [ True]]\n",
      "The above returns a Boolean array, rather than a scalar\n",
      "To get a single Boolean value, like...\n",
      "True\n",
      "we had to apply np.all() again\n"
     ]
    }
   ],
   "source": [
    "A_test=A*A.I\n",
    "# First evaluate np.isclose(A_test, np.identiy(3))\n",
    "print('np.isclose(...) is element-wise, returning a Matrix of the same shape')\n",
    "is_close = np.isclose(A_test,np.identity(3))\n",
    "print(is_close) # Note: this element-wise\n",
    "# Next, evaluate np.all to evaluate whether all is True along 1 dimension (axis)\n",
    "all_ax1 = np.all(is_close, axis=1)\n",
    "print('Evaluating on the other axis...')\n",
    "print(all_ax1)\n",
    "print('The above returns a Boolean array, rather than a scalar')\n",
    "# The last statement evaluates the 1D vector with np.all, doesn't need 'axis='\n",
    "all_all_ax1 = np.all(all_ax1)\n",
    "print('To get a single Boolean value, like...')\n",
    "print(all_all_ax1)\n",
    "print('we had to apply np.all() again')"
   ]
  },
  {
   "cell_type": "markdown",
   "metadata": {
    "deletable": true,
    "editable": true
   },
   "source": [
    "## A note on conditional Logic"
   ]
  },
  {
   "cell_type": "markdown",
   "metadata": {
    "colab_type": "text",
    "deletable": true,
    "editable": true,
    "id": "siRz0se0ZnC4"
   },
   "source": [
    "So you see how Booleans evaluations (conditionals) can be *vectorized* in NumPy--and, indeed, NumPy expects it! If you try conditional Python logic on an array, like\n",
    "\n",
    "```\n",
    "if True in all_ax1\n",
    "```\n",
    "It will return an  error message <br>\n",
    "\n",
    "```The truth value of an array with more than one element is ambiguous. Use a.any() or a.all()```<br>\n",
    "\n",
    "[np.any(...)](https://docs.scipy.org/doc/numpy-1.13.0/reference/generated/numpy.all.html#numpy.all) is the vector equivalent of \n",
    "```\n",
    "True in all_ax1\n",
    "```\n",
    "That is, if it occurs once (across that axis), it will evaluate as True <br><br>\n",
    "Perhaps the most useful task you can acheive with a Boolean *N-D array* is as a 'mask' (acting like indices) to filter an *array* of the same dimensionality.<br>\n",
    "For this, [np.where(...)](https://docs.scipy.org/doc/numpy/reference/generated/numpy.where.html) is invaluable; it is a vectorized (element-wise) version of the satement:  ```x``` if ```condition is True``` else ```y``` with the format\n",
    "\n",
    "```\n",
    "np.where(condition, x, y)\n",
    "```\n",
    "\n",
    "\n",
    "\n",
    "\n"
   ]
  },
  {
   "cell_type": "code",
   "execution_count": 39,
   "metadata": {
    "colab": {
     "autoexec": {
      "startup": false,
      "wait_interval": 0
     }
    },
    "colab_type": "code",
    "collapsed": false,
    "deletable": true,
    "editable": true,
    "id": "zLJd46UEizrt"
   },
   "outputs": [
    {
     "name": "stdout",
     "output_type": "stream",
     "text": [
      "[[-0.02895124  0.00640755  0.64857375  0.25908303]\n",
      " [ 0.69260097 -1.17866246  0.02402892 -0.48901184]\n",
      " [-0.08480528  0.0414084  -0.54933132 -0.26766056]\n",
      " [ 0.99574867  1.95436584 -0.43325078  0.69268447]]\n",
      "The positive elements in the array are\n",
      "[ 0.00640755  0.64857375  0.25908303  0.69260097  0.02402892  0.0414084\n",
      "  0.99574867  1.95436584  0.69268447]\n"
     ]
    }
   ],
   "source": [
    "arr=np.random.randn(4,4)\n",
    "print(arr)\n",
    "mask_int = np.where(arr > 0, 1, 0)\n",
    "# Unfortunately, this will not work as mask as it is not a Boolean type in NumPy\n",
    "#arr[mask_int] indexes arr quite strangely\n",
    "mask_bool = mask_int.astype(np.bool)\n",
    "print('The positive elements in the array are')\n",
    "print(arr[mask_bool])"
   ]
  },
  {
   "cell_type": "markdown",
   "metadata": {
    "colab_type": "text",
    "deletable": true,
    "editable": true,
    "id": "SXT8q6k7d6Tr"
   },
   "source": [
    "## Exercise 3\n",
    "Given the two following 2-D *arrays*, use *np.where(...)* and *np.isclose()* to evaluate where they are equal and return a 0 if they are, or else return a 1 (basically inverting the Boolean array *np.isclose()* normally returns). <br>\n",
    "Use the output as a 'mask' to select the un-matching elements from either array."
   ]
  },
  {
   "cell_type": "code",
   "execution_count": 23,
   "metadata": {
    "colab": {
     "autoexec": {
      "startup": false,
      "wait_interval": 0
     }
    },
    "colab_type": "code",
    "collapsed": false,
    "deletable": true,
    "editable": true,
    "id": "edvkibPLeq8y"
   },
   "outputs": [
    {
     "name": "stdout",
     "output_type": "stream",
     "text": [
      "a10 is\n",
      "[[ 1.          0.30695564  0.70700468 -0.81547202]\n",
      " [ 0.2353554   1.         -0.04251683  0.14745843]\n",
      " [-0.80746123  0.26587508  1.          0.23312198]\n",
      " [-1.42746063  1.59763523  0.72449542  1.        ]]\n",
      "a11 is\n",
      "[[ 1.         -0.73979217 -0.12006945  0.70472147]\n",
      " [-0.98768842  1.          0.65804522  0.74084991]\n",
      " [ 0.86917986  0.84460498  1.         -0.83316479]\n",
      " [-0.45965132 -0.05439223  1.13452916  1.        ]]\n",
      "[ 0.30695564  0.70700468 -0.81547202  0.2353554  -0.04251683  0.14745843\n",
      " -0.80746123  0.26587508  0.23312198 -1.42746063  1.59763523  0.72449542]\n",
      "[-0.73979217 -0.12006945  0.70472147 -0.98768842  0.65804522  0.74084991\n",
      "  0.86917986  0.84460498 -0.83316479 -0.45965132 -0.05439223  1.13452916]\n"
     ]
    }
   ],
   "source": [
    "#Exercise 3\n",
    "a10 = np.random.randn(4, 4)\n",
    "np.fill_diagonal(a10, 1.)\n",
    "a11 = np.random.randn(4, 4)\n",
    "np.fill_diagonal(a11, 1.)\n",
    "print('a10 is')\n",
    "print(a10)\n",
    "print('a11 is')\n",
    "print(a11)\n",
    "\n",
    "a_mask = np.not_equal(a10,a11)\n",
    "\n",
    "print(a10[a_mask])\n",
    "print(a11[a_mask])\n"
   ]
  },
  {
   "cell_type": "markdown",
   "metadata": {
    "colab_type": "text",
    "deletable": true,
    "editable": true,
    "id": "HowphD4HpFWF"
   },
   "source": [
    "# 'Random' Sampling"
   ]
  },
  {
   "cell_type": "markdown",
   "metadata": {
    "colab_type": "text",
    "deletable": true,
    "editable": true,
    "id": "-jHo163qibAh"
   },
   "source": [
    "The NumPy routine for handling/generating random events, numbers, etc. is [numpy.random](https://docs.scipy.org/doc/numpy-1.14.0/reference/routines.random.html)\n",
    "\n",
    "Because there are sub-functions for the random routine, e.g. ([random.random_sample(...)](https://docs.scipy.org/doc/numpy-1.14.0/reference/generated/numpy.random.random_sample.html#numpy.random.random_sample)) it is often useful to import *np.random* as 'random' (or as *) to make calls to this routine shorter"
   ]
  },
  {
   "cell_type": "code",
   "execution_count": 24,
   "metadata": {
    "colab": {
     "autoexec": {
      "startup": false,
      "wait_interval": 0
     }
    },
    "colab_type": "code",
    "collapsed": true,
    "deletable": true,
    "editable": true,
    "id": "sJ5hllVgk01K"
   },
   "outputs": [],
   "source": [
    "import numpy.random as random"
   ]
  },
  {
   "cell_type": "markdown",
   "metadata": {
    "colab_type": "text",
    "deletable": true,
    "editable": true,
    "id": "OrLfk9pCk3cO"
   },
   "source": [
    "Randomness is extremely useful in numerical evaluations, simulations, and algorithms in general.\n",
    "\n",
    "For example, if we want to randomly sample from an array, we would use [numpy.random.choice(...)](https://docs.scipy.org/doc/numpy-1.14.0/reference/generated/numpy.random.choice.html#numpy.random.choice)\n",
    "\n",
    "Note: this needs a 1-D array"
   ]
  },
  {
   "cell_type": "code",
   "execution_count": 25,
   "metadata": {
    "colab": {
     "autoexec": {
      "startup": false,
      "wait_interval": 0
     }
    },
    "colab_type": "code",
    "collapsed": false,
    "deletable": true,
    "editable": true,
    "id": "yk052lelk4Zs"
   },
   "outputs": [
    {
     "name": "stdout",
     "output_type": "stream",
     "text": [
      "[4 3 1 1 4 4 3 1 3 3 3 2 1 1 4 1 2 1 1 4]\n",
      "[1 2 1 1 3 3 1 3 1 2 4 4 4 2 2 1 1 2 4 2]\n"
     ]
    }
   ],
   "source": [
    "random_sample = np.array(random.choice(a6.reshape(4,),size=20))\n",
    "print(random_sample)\n",
    "  \n",
    "# or return as an array in a list comprehension\n",
    "print(np.array([random.choice(a6.reshape(4,)) for i in np.arange(20)]))"
   ]
  },
  {
   "cell_type": "markdown",
   "metadata": {
    "colab_type": "text",
    "deletable": true,
    "editable": true,
    "id": "VsjiGbMOmxN9"
   },
   "source": [
    "What you'll notice by comparing with another workshop attendee or by running the above cell multiple times is that this sequence of samples appears truly random for each instance. <br>\n",
    "However, at times (especially when comparing or testing code), it is more useful when randomness can be repeated. <br>\n",
    "Because *numpy.random* works from a [pseudo-random number generator](https://en.wikipedia.org/wiki/Pseudorandom_number_generator) (PRNG, specifically the [Mersenne Twister](https://en.wikipedia.org/wiki/Mersenne_Twister) algorithm), it can return the same 'random sample' repeatedly by fixing the 'seed' for the PRNG. This is done with [numpy.random.seed(...)](https://docs.scipy.org/doc/numpy-1.14.0/reference/generated/numpy.random.seed.html#numpy.random.seed) "
   ]
  },
  {
   "cell_type": "code",
   "execution_count": 26,
   "metadata": {
    "colab": {
     "autoexec": {
      "startup": false,
      "wait_interval": 0
     }
    },
    "colab_type": "code",
    "collapsed": false,
    "deletable": true,
    "editable": true,
    "id": "gZtVyItZpJri"
   },
   "outputs": [
    {
     "name": "stdout",
     "output_type": "stream",
     "text": [
      "A random sample can be recreated with fidelity by fixing the seed\n",
      "[3 2 2 1 2 2 1 2 3 1 2 2 3 3 2 1 3 1 1 1]\n",
      "[3 2 2 1 2 2 1 2 3 1 2 2 3 3 2 1 3 1 1 1]\n",
      "[3 2 2 1 2 2 1 2 3 1 2 2 3 3 2 1 3 1 1 1]\n",
      "[3 2 2 1 2 2 1 2 3 1 2 2 3 3 2 1 3 1 1 1]\n",
      "[3 2 2 1 2 2 1 2 3 1 2 2 3 3 2 1 3 1 1 1]\n"
     ]
    }
   ],
   "source": [
    "print('A random sample can be recreated with fidelity by fixing the seed')\n",
    "for i in np.arange(5):\n",
    "  random.seed(seed = 51)\n",
    "  random_sample = np.array(random.choice(a6.reshape(4,),size=20))\n",
    "  print(random_sample)"
   ]
  },
  {
   "cell_type": "markdown",
   "metadata": {
    "colab_type": "text",
    "deletable": true,
    "editable": true,
    "id": "RmWRYIABrIuh"
   },
   "source": [
    "Another important feature of random sampling from a pre-existing array is the option to *replace* while sampling. <br>\n",
    "By default, this option is true, so technically the *np.random.choice(...)* sampling performs [bootstrapping](https://en.wikipedia.org/wiki/Bootstrapping_(statistics), which is a powerful method in statistics. <br>\n",
    "When *replace=False*, the length of the sample size must be less than the length of the array."
   ]
  },
  {
   "cell_type": "code",
   "execution_count": 27,
   "metadata": {
    "colab": {
     "autoexec": {
      "startup": false,
      "wait_interval": 0
     }
    },
    "colab_type": "code",
    "collapsed": false,
    "deletable": true,
    "editable": true,
    "id": "qmCwCYONtGyE"
   },
   "outputs": [
    {
     "name": "stdout",
     "output_type": "stream",
     "text": [
      "[2 1 3 4]\n"
     ]
    }
   ],
   "source": [
    "random_sample = np.array(random.choice(a6.reshape(4,),size=4, replace=False))\n",
    "print(random_sample)\n",
    "\n",
    "# Uncommenting the below code will give an error due to the size of the sample\n",
    "# random_sample = np.array(random.choice(a6.reshape(4,),size=20, replace=False))\n",
    "# print(random_sample)"
   ]
  },
  {
   "cell_type": "markdown",
   "metadata": {
    "colab_type": "text",
    "deletable": true,
    "editable": true,
    "id": "rHwjs5zjtyUP"
   },
   "source": [
    "Another example:\n",
    "Say you don't have an array to sample from, but rather only know a range of numbers or distribution limits you'd like to sample from: *numpy.random* is still useful for randomly sampling. <br>\n",
    "The most generic method for this is the aptly-named [np.random.random_sample(...)](https://docs.scipy.org/doc/numpy-1.14.0/reference/generated/numpy.random.random_sample.html#numpy.random.random_sample) <br>\n",
    "This 'returns random floats in the half-open interval [0, 1)' (1 not inclusive)"
   ]
  },
  {
   "cell_type": "code",
   "execution_count": 28,
   "metadata": {
    "colab": {
     "autoexec": {
      "startup": false,
      "wait_interval": 0
     }
    },
    "colab_type": "code",
    "collapsed": false,
    "deletable": true,
    "editable": true,
    "id": "mk80WmZLu4Xd"
   },
   "outputs": [
    {
     "name": "stdout",
     "output_type": "stream",
     "text": [
      "[ 0.64674554  0.24983141  0.41024799  0.04772578  0.3235483   0.29220176\n",
      "  0.4454105   0.06027481  0.75463839  0.72871083]\n"
     ]
    }
   ],
   "source": [
    "print(random.random_sample(size=10))"
   ]
  },
  {
   "cell_type": "markdown",
   "metadata": {
    "colab_type": "text",
    "deletable": true,
    "editable": true,
    "id": "YaH5LB95vISi"
   },
   "source": [
    "Note: this function is redundant with* np.random.random(...)*, *np.random.ranf(...)*, and *np.random.sample(...)* <br>\n",
    "<br>\n",
    "Okay...but let's say you want your sampling from '2' to '10' aka [2, 10)<br>\n",
    "Just multiply the random.random_sample by '(b -a)' and add the offset 'a'"
   ]
  },
  {
   "cell_type": "code",
   "execution_count": 29,
   "metadata": {
    "colab": {
     "autoexec": {
      "startup": false,
      "wait_interval": 0
     }
    },
    "colab_type": "code",
    "collapsed": false,
    "deletable": true,
    "editable": true,
    "id": "VOZuX2fPv6HX"
   },
   "outputs": [
    {
     "name": "stdout",
     "output_type": "stream",
     "text": [
      "[ 6.51808751  7.71297116  6.65884864  7.11311291  8.36158983  8.95592448\n",
      "  4.79993519  4.46319782  6.82979148  4.97718543]\n",
      "[6 7 6 7 8 8 4 4 6 4]\n",
      "[6 7 6 7 8 8 4 4 6 4]\n"
     ]
    }
   ],
   "source": [
    "b = 10.\n",
    "a = 2.\n",
    "sample_2_10 = (10.-2.)*random.random_sample(size=10) + 2.\n",
    "print(sample_2_10)\n",
    "# and if you wanted these to be rounded to integers...\n",
    "print(np.array([int(sample_2_10[i]) for i in np.arange(np.size(sample_2_10))]))\n",
    "# or you could just use np.floor to round down (or np.ceil to round up)\n",
    "print(np.floor(sample_2_10).astype(int))\n"
   ]
  },
  {
   "cell_type": "markdown",
   "metadata": {
    "colab_type": "text",
    "deletable": true,
    "editable": true,
    "id": "UM3vOtjSzKPK"
   },
   "source": [
    "There is also [np.random.randint(...)](https://docs.scipy.org/doc/numpy-1.14.0/reference/generated/numpy.random.randint.html#numpy.random.randint) and [np.random.random_integers(...)](https://docs.scipy.org/doc/numpy-1.14.0/reference/generated/numpy.random.random_integers.html#numpy.random.random_integers) for similar behavior to that last line of code. <br>\n",
    "<br>\n",
    "Cool...but often a uniform probability distribution is not useful. <br>\n",
    "Thankfully, *numpy.random* has 35 built-in distributions from which you can sample. <br>\n",
    "For example, one of the most common distributions, the 'Normal' (Gaussian) distribution, has its own random sampling function ([np.random.randn(...)](https://docs.scipy.org/doc/numpy-1.14.0/reference/generated/numpy.random.randn.html#numpy.random.randn)) that is redundant with [np.random.normal(...)](https://docs.scipy.org/doc/numpy-1.14.0/reference/generated/numpy.random.normal.html#numpy.random.normal)."
   ]
  },
  {
   "cell_type": "code",
   "execution_count": 30,
   "metadata": {
    "colab": {
     "autoexec": {
      "startup": false,
      "wait_interval": 0
     }
    },
    "colab_type": "code",
    "collapsed": false,
    "deletable": true,
    "editable": true,
    "id": "m4dB1bSj2HVE"
   },
   "outputs": [
    {
     "data": {
      "image/png": "[encoded data removed]",
      "text/plain": [
       "<matplotlib.figure.Figure at 0x180ec5352b0>"
      ]
     },
     "metadata": {},
     "output_type": "display_data"
    }
   ],
   "source": [
    "# for plotting\n",
    "import pylab as pl\n",
    "#%pylab inline\n",
    "\n",
    "#for sampling from the normal (gaussian) distribution\n",
    "random.seed(6) # note: same as random.seed(seed = 6)\n",
    "mu, sigma = 0.1, 1.\n",
    "n_dist = random.normal(mu, sigma, 500)\n",
    "\n",
    "#for sampling from cauchy (lorentzian) distribution\n",
    "random.seed(6)\n",
    "c_dist = random.standard_cauchy(120)\n",
    "\n",
    "pl.hist(n_dist)\n",
    "pl.hist(c_dist,45)\n",
    "pl.show() #not strictly necessary with %pylab inline, but removes some print-out"
   ]
  },
  {
   "cell_type": "markdown",
   "metadata": {
    "colab_type": "text",
    "deletable": true,
    "editable": true,
    "id": "ajupZHFDSBi_"
   },
   "source": [
    "Great...but what if you wan't to use a non-standard cauchy distribution? (one not centered on zero and with gamma variance greater than 1) <br>\n",
    "<br>\n",
    "First, in these calls of *random.normal*, note that we have been using shorthand\n",
    "\n",
    "```\n",
    "random.normal(mu, sigma, 500)\n",
    "```\n",
    "which is really\n",
    "\n",
    "```\n",
    "random.normal(loc = mu, scale = sigma, size = 500)\n",
    "```\n",
    "the ```loc``` and ```scale``` keywords are, in general, related to the statistical variables that determine the center (ex. 'mean' for Normal) and variance (ex. 'beta' for Cauchy). <br>\n",
    "Back to the question: to sample from a non-standard cauchy distribution, we'll need **SciPy**, namely [scipy.stats.cauchy(...)](https://docs.scipy.org/doc/scipy/reference/generated/scipy.stats.cauchy.html) which has the ```rvs()``` method for random-variable sampling.\n",
    "\n",
    "\n",
    "\n",
    "\n"
   ]
  },
  {
   "cell_type": "code",
   "execution_count": 31,
   "metadata": {
    "colab": {
     "autoexec": {
      "startup": false,
      "wait_interval": 0
     }
    },
    "colab_type": "code",
    "collapsed": false,
    "deletable": true,
    "editable": true,
    "id": "0VKwhMsfaZUm"
   },
   "outputs": [
    {
     "data": {
      "image/png": "[encoded data removed]",
      "text/plain": [
       "<matplotlib.figure.Figure at 0x180e865ef28>"
      ]
     },
     "metadata": {},
     "output_type": "display_data"
    },
    {
     "name": "stdout",
     "output_type": "stream",
     "text": [
      "<class 'scipy.stats._continuous_distns.cauchy_gen'>\n"
     ]
    }
   ],
   "source": [
    "import scipy.stats\n",
    "from scipy.stats import cauchy\n",
    "\n",
    "random.seed(6)\n",
    "c_dist = random.standard_cauchy(120)\n",
    "\n",
    "random.seed(6)\n",
    "c_dist2 = scipy.stats.cauchy.rvs(loc=100, scale=2.5, size=120)\n",
    "pl.hist(c_dist,5)\n",
    "pl.hist(c_dist2,45)\n",
    "pl.show()\n",
    "print(type(scipy.stats.cauchy))"
   ]
  },
  {
   "cell_type": "markdown",
   "metadata": {
    "colab_type": "text",
    "deletable": true,
    "editable": true,
    "id": "3AttA1w_bnEW"
   },
   "source": [
    "There are a multitude of other statistical applications that can be evaluated with ```scipy.stats```; for example, on any specific continuous distribution (in this case of the *rv_continuous* class), the mean, variance, skewness, and kurtusis can be readily generated.\n",
    "\n"
   ]
  },
  {
   "cell_type": "code",
   "execution_count": 32,
   "metadata": {
    "colab": {
     "autoexec": {
      "startup": false,
      "wait_interval": 0
     }
    },
    "colab_type": "code",
    "collapsed": false,
    "deletable": true,
    "editable": true,
    "id": "S5AQ0_AHcalP"
   },
   "outputs": [
    {
     "name": "stdout",
     "output_type": "stream",
     "text": [
      "The mean of the normal distribution is 0.0\n",
      "The variance of the normal distribution is 1.0\n",
      "The skew of the normal distribution is 0.0\n",
      "The kurtosis of the normal distribution is 0.0\n"
     ]
    }
   ],
   "source": [
    "mean, var, skew, kurt = scipy.stats.norm.stats(moments='mvsk')\n",
    "print('The mean of the normal distribution is ' + str(mean))\n",
    "print('The variance of the normal distribution is ' + str(var))\n",
    "print('The skew of the normal distribution is ' + str(skew))\n",
    "print('The kurtosis of the normal distribution is ' + str(kurt))"
   ]
  },
  {
   "cell_type": "markdown",
   "metadata": {
    "colab_type": "text",
    "deletable": true,
    "editable": true,
    "id": "-7UBr0DMgW-S"
   },
   "source": [
    "The additional method ```stats``` is specific to the ```rv_continuous``` class. If there is a distribution you can't find in ```numpy.random``` or ```scipy.stats```, you can actually generate a custom one."
   ]
  },
  {
   "cell_type": "code",
   "execution_count": 33,
   "metadata": {
    "colab": {
     "autoexec": {
      "startup": false,
      "wait_interval": 0
     }
    },
    "colab_type": "code",
    "collapsed": false,
    "deletable": true,
    "editable": true,
    "id": "ii59S_NWhA3L"
   },
   "outputs": [
    {
     "data": {
      "image/png": "[encoded data removed]",
      "text/plain": [
       "<matplotlib.figure.Figure at 0x180f0368ac8>"
      ]
     },
     "metadata": {},
     "output_type": "display_data"
    }
   ],
   "source": [
    "from scipy.stats import rv_continuous #import rv_continuous class\n",
    "\n",
    "class gaussian_gen(rv_continuous):\n",
    "  \"Gaussian distribution\"                           #comment describing function\n",
    "  def _pdf(self, x):                       #rewrites the pdf method to be called\n",
    "    return np.exp(-x**2 / 2.) / np.sqrt(2.0 * np.pi) #The custom function\n",
    "\n",
    "\n",
    "custom_gauss = gaussian_gen() #instance created for custom rv_continuous class\n",
    "n_dist2 = custom_gauss.rvs(size = 500) #instance method .rvs\n",
    "pl.hist(n_dist)\n",
    "pl.hist(n_dist2)\n",
    "pl.show()"
   ]
  },
  {
   "cell_type": "markdown",
   "metadata": {
    "colab_type": "text",
    "deletable": true,
    "editable": true,
    "id": "QDNU34BZkBn9"
   },
   "source": [
    "# Creating + Fitting 'Noisy' Data "
   ]
  },
  {
   "cell_type": "markdown",
   "metadata": {
    "colab_type": "text",
    "deletable": true,
    "editable": true,
    "id": "Zi5lqOMVLSzA"
   },
   "source": [
    "NumPy also has many built-in math functions. Trigonometric expressions like [np.sin](https://docs.scipy.org/doc/numpy/reference/generated/numpy.sin.html) can be called on numpy *array* for instance."
   ]
  },
  {
   "cell_type": "code",
   "execution_count": 43,
   "metadata": {
    "colab": {
     "autoexec": {
      "startup": false,
      "wait_interval": 0
     }
    },
    "colab_type": "code",
    "collapsed": false,
    "deletable": true,
    "editable": true,
    "id": "ii6jSfQyLy7S"
   },
   "outputs": [
    {
     "data": {
      "image/png": "[encoded data removed]",
      "text/plain": [
       "<matplotlib.figure.Figure at 0x180fa6a2240>"
      ]
     },
     "metadata": {},
     "output_type": "display_data"
    }
   ],
   "source": [
    "t = np.linspace(0, 2*np.pi, 101) #array of 101 pts evenly spaced from 0 to 2pi\n",
    "y = np.sin(t) # apply trig sine function to array\n",
    "pl.plot(t, y) # plot\n",
    "pl.show()"
   ]
  },
  {
   "cell_type": "markdown",
   "metadata": {
    "colab_type": "text",
    "deletable": true,
    "editable": true,
    "id": "qN9BsarcMpL1"
   },
   "source": [
    "Now, let's say we want to add noise to this data to simulate real data that one might collect from an instrument.\n",
    "\n",
    "We can do this with the np.random routine."
   ]
  },
  {
   "cell_type": "code",
   "execution_count": 41,
   "metadata": {
    "colab": {
     "autoexec": {
      "startup": false,
      "wait_interval": 0
     }
    },
    "colab_type": "code",
    "collapsed": false,
    "deletable": true,
    "editable": true,
    "id": "e25r3tuqNU6b"
   },
   "outputs": [
    {
     "data": {
      "image/png": "[encoded data removed]",
      "text/plain": [
       "<matplotlib.figure.Figure at 0x180ee7b2cc0>"
      ]
     },
     "metadata": {},
     "output_type": "display_data"
    }
   ],
   "source": [
    "random.seed(51)\n",
    "noisy_y = random.normal(loc = np.sin(t), scale = 0.3) # Gaussian noise add to y\n",
    "pl.plot(x, noisy_y, 'o') # plot\n",
    "pl.show()"
   ]
  },
  {
   "cell_type": "markdown",
   "metadata": {
    "colab_type": "text",
    "deletable": true,
    "editable": true,
    "id": "J9R-SMogO1yp"
   },
   "source": [
    "Now the data generated from a continuous function acting on discrete points looks realistically noisy. <br> <br>\n",
    "Imagine this were from an experiment, you might want to 'fit' it with some form of regression (going from discrete points back to a continuous function).<br>\n",
    "NumPy has some black-box functions for regression, the most common of which are based on least-squares fitting (minimizing the square of the residual between the data and fit). <br>\n",
    "A particularly easy one to use (if we naively assume the data is representative of a polynomial) is [np.polyfit(...)](https://docs.scipy.org/doc/numpy/reference/generated/numpy.polyfit.html)--used to perform a least-squares polynomial fit--and [np.poly1d](https://docs.scipy.org/doc/numpy/reference/generated/numpy.poly1d.html)--used to calculate a new *y* from the fit.\n"
   ]
  },
  {
   "cell_type": "code",
   "execution_count": 42,
   "metadata": {
    "colab": {
     "autoexec": {
      "startup": false,
      "wait_interval": 0
     }
    },
    "colab_type": "code",
    "collapsed": false,
    "deletable": true,
    "editable": true,
    "id": "hQrC07DFR0LW"
   },
   "outputs": [
    {
     "data": {
      "image/png": "[encoded data removed]",
      "text/plain": [
       "<matplotlib.figure.Figure at 0x180fa36c518>"
      ]
     },
     "metadata": {},
     "output_type": "display_data"
    }
   ],
   "source": [
    "fit_obj = np.polyfit(t, noisy_y, 3) #perform least-squares fit\n",
    "fit_fn = np.poly1d(fit_obj) #generate function parameters\n",
    "fit_y = fit_fn(t) # apply function to x to generate fit y\n",
    "pl.plot(t, noisy_y, 'o') #plot as 'o' dots\n",
    "pl.plot(t, fit_y, 'r') #plot as red 'r' line\n",
    "pl.show()"
   ]
  },
  {
   "cell_type": "markdown",
   "metadata": {},
   "source": [
    "This looks pretty good! <br>\n",
    "But, of course, knowing that this was generated from a sine function, outside of these bounds the fit would be rather poor. <br> <br>\n",
    "\n",
    "If you *do* know your data is periodic, a better *basis* for your fit might be Fourier basis, or, on that same note: if the data is conditioned properly (windowed to zero, constant time interval, etc.), the fast Fourier Transform (of discrete data) is easily implementable in Numpy and could give the frequency of sine or cosine functions. The relevant functions for this are in the Numpy [fft](https://docs.scipy.org/doc/numpy/reference/routines.fft.html) module."
   ]
  },
  {
   "cell_type": "markdown",
   "metadata": {},
   "source": [
    "## Linear (least-squares) fitting, in general\n",
    "Focusing on the math behind np.poly1d, you realize it is actually solving a linear least-squares problem for the coefficients of the polynomial (the data $y$ is linear in the coefficients even though it is non-linear in $x$). <br> <br>\n",
    "This means we could solve the above fitting more explicitly with a general least-squares problem by considering the features $x$ of the model that are linearly related to $y$ <br>\n",
    "The general module for linear algebra in NumPy is [np.linalg](https://docs.scipy.org/doc/numpy-1.13.0/reference/routines.linalg.html)"
   ]
  },
  {
   "cell_type": "code",
   "execution_count": 54,
   "metadata": {
    "collapsed": true
   },
   "outputs": [],
   "source": [
    "import numpy.linalg as linalg"
   ]
  },
  {
   "cell_type": "markdown",
   "metadata": {},
   "source": [
    "Returning to the problem at hand, in generic notation, linear fitting means you have some data $y$, model parameters $x$, and $A$ a vector holding the data as it relates to each model parameter. In other words: <br>\n",
    "$$y = Ax$$\n",
    "and you want to solve for\n",
    "$$x = A^{-1}y$$\n",
    "<br>\n",
    "If $A$ is invertible, then, it's easy enough to solve this problem with [np.dot](https://docs.scipy.org/doc/numpy/reference/generated/numpy.dot.html) and [np.linalg.inv](https://docs.scipy.org/doc/numpy-1.13.0/reference/generated/numpy.linalg.inv.html) <br> <br>\n",
    "But $A$ is not invertible (in this case, it is not square), so we minimize the squared difference between $y$ and $Ax$ ('ordinary' least-squares fitting, a.k.a. minimize the L2 norm). This has the general solution:\n",
    "$$ x = (A^TA)^{-1}A^Ty$$\n",
    "First, lets define A more concretely in terms of our sine-wave/3rd order polynomial example."
   ]
  },
  {
   "cell_type": "code",
   "execution_count": 53,
   "metadata": {
    "collapsed": false
   },
   "outputs": [
    {
     "name": "stdout",
     "output_type": "stream",
     "text": [
      "The shape of A is (101, 4)\n",
      "because there are 101 points (t) and 4 linear parameters\n"
     ]
    }
   ],
   "source": [
    "#  The model we are trying to fit is y = mt^3 + mt^2 + mt + b\n",
    "#the relationship b/w y and m in each is [t^3,   t^2,   t,  1]\n",
    "A = np.vstack([t**3, t**2, t, np.ones(np.shape(t)[0])]).T\n",
    "print('The shape of A is ' + str(np.shape(A)))\n",
    "print('because there are 101 points (t) and 4 linear parameters')"
   ]
  },
  {
   "cell_type": "markdown",
   "metadata": {},
   "source": [
    "## Exercise 4\n",
    "Solve for x with the general least squares solution\n",
    "$$ x = (A^TA)^{-1}A^Ty$$\n",
    "using [np.dot](https://docs.scipy.org/doc/numpy/reference/generated/numpy.dot.html) and [np.linalg.inv](https://docs.scipy.org/doc/numpy-1.13.0/reference/generated/numpy.linalg.inv.html) <br><br>\n",
    "Assign the coefficients to variables ```m3```, ```m2```, ```m```, and ```c``` and use the next cell to plot the results"
   ]
  },
  {
   "cell_type": "code",
   "execution_count": 56,
   "metadata": {
    "collapsed": true
   },
   "outputs": [],
   "source": [
    "# Exercise 4\n",
    "m3, m2, m, b = np.dot(linalg.inv(np.dot(A.T, A)), np.dot(A.T, y))"
   ]
  },
  {
   "cell_type": "code",
   "execution_count": 57,
   "metadata": {
    "collapsed": false
   },
   "outputs": [
    {
     "data": {
      "image/png": "[encoded data removed]",
      "text/plain": [
       "<matplotlib.figure.Figure at 0x180fa650dd8>"
      ]
     },
     "metadata": {},
     "output_type": "display_data"
    }
   ],
   "source": [
    "#to make our fit look continuous, we need finer sampling\n",
    "tf = np.linspace(0, 2*np.pi, 501) #finer sampling points\n",
    "fit_y_genlstsq = np.polyval([m3, m2, m, b], tf) #evaluate fit\n",
    "pl.plot(t, noisy_y, 'o') #plot as 'o' dots\n",
    "pl.plot(tf, fit_y_genlstsq, 'r') #plot as red 'r' line\n",
    "pl.show()"
   ]
  },
  {
   "cell_type": "markdown",
   "metadata": {},
   "source": [
    "The black-box way to solve this is just with [np.linalg.lstsq(...)](https://docs.scipy.org/doc/numpy-1.13.0/reference/generated/numpy.linalg.lstsq.html)"
   ]
  },
  {
   "cell_type": "code",
   "execution_count": 65,
   "metadata": {
    "collapsed": false
   },
   "outputs": [
    {
     "name": "stdout",
     "output_type": "stream",
     "text": [
      "Within precision tolerance, it is True that numpy.linalg.lstsq returns the same coefficients.\n"
     ]
    }
   ],
   "source": [
    "print('Within precision tolerance, it is ' + \n",
    "      str(np.allclose(np.linalg.lstsq(A, y)[0],\n",
    "                      #index 0th element for coeffecients\n",
    "                      [m3, m2, m, b])) + \n",
    "      ' that numpy.linalg.lstsq returns the same coefficients.')"
   ]
  },
  {
   "cell_type": "markdown",
   "metadata": {},
   "source": [
    "For non-linear fitting (parameters are not linearly related to the data), you would use [scipy.optimize.curve_fit(...)](https://docs.scipy.org/doc/scipy/reference/generated/scipy.optimize.curve_fit.html#scipy.optimize.curve_fit)"
   ]
  },
  {
   "cell_type": "code",
   "execution_count": null,
   "metadata": {
    "collapsed": true
   },
   "outputs": [],
   "source": []
  }
 ],
 "metadata": {
  "colab": {
   "collapsed_sections": [],
   "default_view": {},
   "name": "Numpy-scipy.ipynb",
   "provenance": [],
   "version": "0.3.2",
   "views": {}
  },
  "kernelspec": {
   "display_name": "Python 3",
   "language": "python",
   "name": "python3"
  },
  "language_info": {
   "codemirror_mode": {
    "name": "ipython",
    "version": 3
   },
   "file_extension": ".py",
   "mimetype": "text/x-python",
   "name": "python",
   "nbconvert_exporter": "python",
   "pygments_lexer": "ipython3",
   "version": "3.5.2"
  }
 },
 "nbformat": 4,
 "nbformat_minor": 0
}
