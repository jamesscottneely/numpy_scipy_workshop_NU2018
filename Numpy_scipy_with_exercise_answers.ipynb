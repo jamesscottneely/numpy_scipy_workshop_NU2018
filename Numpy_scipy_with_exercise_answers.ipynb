{
  "nbformat": 4,
  "nbformat_minor": 0,
  "metadata": {
    "colab": {
      "name": "Numpy-scipy.ipynb",
      "version": "0.3.2",
      "views": {},
      "default_view": {},
      "provenance": [],
      "collapsed_sections": []
    },
    "kernelspec": {
      "name": "python3",
      "display_name": "Python 3"
    }
  },
  "cells": [
    {
      "metadata": {
        "id": "DyznzL8W2WDt",
        "colab_type": "text"
      },
      "cell_type": "markdown",
      "source": [
        "NumPy (SciPy) Workshop - 20 July 2018"
      ]
    },
    {
      "metadata": {
        "id": "xJ1k-vir2pTm",
        "colab_type": "text"
      },
      "cell_type": "markdown",
      "source": [
        "#Import NumPy <br>\n",
        "NumPy is an external library; traditionally imported as 'np'"
      ]
    },
    {
      "metadata": {
        "id": "AYgwYUQw2cZw",
        "colab_type": "code",
        "colab": {
          "autoexec": {
            "startup": false,
            "wait_interval": 0
          }
        }
      },
      "cell_type": "code",
      "source": [
        "# Import\n",
        "import numpy as np"
      ],
      "execution_count": 0,
      "outputs": []
    },
    {
      "metadata": {
        "id": "CEe2L6ta3cDl",
        "colab_type": "text"
      },
      "cell_type": "markdown",
      "source": [
        "# Arrays <br>"
      ]
    },
    {
      "metadata": {
        "id": "3RSNQSstmAvg",
        "colab_type": "text"
      },
      "cell_type": "markdown",
      "source": [
        "The fundamental 'object' in NumPy is the *array* <br>\n",
        "Compared to default Python, *lists* $\\approx$ *arrays*, except every element of an *array* **must be of the same type** <br>"
      ]
    },
    {
      "metadata": {
        "id": "a-GpWzzN4T7c",
        "colab_type": "code",
        "colab": {
          "autoexec": {
            "startup": false,
            "wait_interval": 0
          }
        }
      },
      "cell_type": "code",
      "source": [
        "# Arrays can be created from lists...\n",
        "l1 = [1, 2, 3, 4]\n",
        "a1 = np.array(l1)\n",
        "print('l1 is of ' + str(type(l1))[1:-1])\n",
        "print('a1 is of ' + str(type(a1))[1:-1])\n",
        "\n",
        "# Or lists can be created from arrays...\n",
        "a2 = np.array([1, 2, 3, 4])\n",
        "l2 = list(a2)\n",
        "print('l2 is of ' + str(type(l2))[1:-1])\n",
        "print('a2 is of ' + str(type(a2))[1:-1])\n",
        "\n",
        "print('It is ' + str(np.all(a1 == a2)) + ' that a1 is identical to a2')"
      ],
      "execution_count": 0,
      "outputs": []
    },
    {
      "metadata": {
        "id": "a5Ix2_pW-Ws0",
        "colab_type": "text"
      },
      "cell_type": "markdown",
      "source": [
        "But, again, all elements of an *array* must be of the same type! <br>\n",
        "\n",
        "So, if you feed an array something of mixed data type, it will force everything into one type and normal math operations may not function\n",
        "\n"
      ]
    },
    {
      "metadata": {
        "id": "hmJBY5Qo-xJ7",
        "colab_type": "code",
        "colab": {
          "autoexec": {
            "startup": false,
            "wait_interval": 0
          }
        }
      },
      "cell_type": "code",
      "source": [
        "l3 = ['test', 2, 3, 4] # a list with mixed type\n",
        "a3 = np.array(l3) # a numpy array from the list of mixed type\n",
        "print(str(a3[1]*2) + ' does not equal ' + str(l3[1]*2))\n",
        "print('This is because in a NumPy array, \"2\" is being treated as ' +\n",
        "      str(type(a3[1]))) \n",
        "print('In the list, \"2\" remains ' +\n",
        "      str(type(l3[1])))\n",
        "a3 #full output, unsuppressed"
      ],
      "execution_count": 0,
      "outputs": []
    },
    {
      "metadata": {
        "id": "7Jfbdmx3Agn9",
        "colab_type": "text"
      },
      "cell_type": "markdown",
      "source": [
        "Note the 'dtype' output in the full description of the 'a3' array above <br>\n",
        "'dtype' = data type <br>\n",
        "'dtype' is both a standalone class object in numpy (see [Data Type Objects](https://docs.scipy.org/doc/numpy-1.14.0/reference/arrays.dtypes.html) and [np.dtype](https://docs.scipy.org/doc/numpy-1.14.0/reference/generated/numpy.dtype.html) ) and an attribute of an *array* ('a4.dtype', for ex) describing the **datatype of the elements in that array**<br>\n",
        "There are various defaults for assigning datatypes to arrays without returning errors (as in the above, a mixed *string* and *int* list was converted to unicode; two floats of different accuracy will be converted to the one of higher accuracy, etc.)<br>\n",
        "See [Data Types](https://docs.scipy.org/doc/numpy-1.13.0/user/basics.types.html) for a concise list of datatypes <br> <br>\n",
        "\n",
        "If you want to be explicit about your *array*  datatype, you can call *dtype* when forming an *array*"
      ]
    },
    {
      "metadata": {
        "id": "i_y7fMezC27v",
        "colab_type": "code",
        "colab": {
          "autoexec": {
            "startup": false,
            "wait_interval": 0
          }
        }
      },
      "cell_type": "code",
      "source": [
        "a4 = np.array([1, 2, 3, 4], dtype=float) #note: could be 'float64'\n",
        "print('It is ' + str(type(a4) == type(a1)) +\n",
        "      ' that both a4 and a1 are arrays, that is ' + str(type(a4)))\n",
        "print('The elements in the original array a1 were' + str((a1[0]).dtype))\n",
        "print('The elements in a4 were \"cast\" into ' + str((a4[0]).dtype))"
      ],
      "execution_count": 0,
      "outputs": []
    },
    {
      "metadata": {
        "id": "Oru6qQPhKCl9",
        "colab_type": "text"
      },
      "cell_type": "markdown",
      "source": [
        "Note: though at times one can simply recast the dtype with (for example)\n",
        "\n",
        "```\n",
        "a4.dtype = 'np.int'\n",
        "```\n",
        "The safer and more consistent way to recast dtype is with the *array* method *array*.astype\n",
        "```\n",
        "a4.astype(np.int)\n",
        "```\n",
        "as done in the code below"
      ]
    },
    {
      "metadata": {
        "id": "s1tXN67QKAaf",
        "colab_type": "code",
        "colab": {
          "autoexec": {
            "startup": false,
            "wait_interval": 0
          }
        }
      },
      "cell_type": "code",
      "source": [
        "a4 = np.array([1, 2, 3, 4], dtype=float)\n",
        "print('a4 is ' + str(a4))\n",
        "print('elements of a4 are of type ' + str(a4.dtype))\n",
        "print('Though the elements can be cast back into the original form with dtype,')\n",
        "print('in this case they\\'re re-written (as a copy) onto the original with astype')\n",
        "a4 = a4.astype(np.int)\n",
        "print('a4 is now ' + str(a4))\n",
        "print('elements of a4 are now of type ' + str(a4.dtype))"
      ],
      "execution_count": 0,
      "outputs": []
    },
    {
      "metadata": {
        "id": "LKsKm-00Low-",
        "colab_type": "text"
      },
      "cell_type": "markdown",
      "source": [
        "The above example discusses the concept of 'copying' an array<br>\n",
        "It is worth noting, that, that,  like Python lists, **arrays are not immutable** <br>\n",
        "When an new array is made from another array, for example, it points directly to that original array <br>\n",
        "And when that new array is modified, that old array is modified as well <br>\n",
        "You can use [*array*.copy()](https://docs.scipy.org/doc/numpy-1.14.0/reference/generated/numpy.copy.html) to be safer <br>"
      ]
    },
    {
      "metadata": {
        "id": "HQ_91SilNhX1",
        "colab_type": "code",
        "colab": {
          "autoexec": {
            "startup": false,
            "wait_interval": 0
          }
        }
      },
      "cell_type": "code",
      "source": [
        "a5 = a4\n",
        "print('The array a4 is')\n",
        "print(a4)\n",
        "a5[-1] = int(5)\n",
        "print('After modifying the last element of a5, both a5 and a4 are')\n",
        "print(a4)\n",
        "a4 = np.array([1, 2, 3, 4], dtype=int)\n",
        "a5c = a4.copy()\n",
        "a5c[-1] = int(5)\n",
        "print('After modifying the last element of a5c, a copy of a4, a4 is the same')\n",
        "print(a4)"
      ],
      "execution_count": 0,
      "outputs": []
    },
    {
      "metadata": {
        "id": "JzJRdtSJOpmL",
        "colab_type": "text"
      },
      "cell_type": "markdown",
      "source": [
        "Okay-- <br>\n",
        "Everything we have done so far with one-dimensional *arrays* is basically identical to Python *lists*...<br>\n",
        "One of the well-known benefits of NumPy, however, is more computationally efficient operations (it better exploits *C*). This extends even to 1-D arrays vs lists--but it is most obvious with large arrays"
      ]
    },
    {
      "metadata": {
        "id": "jmHwWfE_Ou6S",
        "colab_type": "code",
        "colab": {
          "autoexec": {
            "startup": false,
            "wait_interval": 0
          }
        }
      },
      "cell_type": "code",
      "source": [
        "#modified from https://stackoverflow.com/questions/10698858/built-in-range-or-numpy-arange-which-is-more-efficient\n",
        "\n",
        "time_size = int(1E6)\n",
        "\n",
        "# Loop index example\n",
        "%timeit for x in range(time_size): x ** 2\n",
        "#out: 1 loop, best of 3: 287 ms per loop\n",
        "%timeit for x in np.arange(time_size): x ** 2\n",
        "#out: 1 loop, best of 3: 162 ms per loop\n",
        "\n",
        "# Math example\n",
        "%timeit np.arange(time_size) * 2\n",
        "#out: 1000 loops, best of 3: 1.87 ms per loop\n",
        "%timeit list(range(time_size)) * 2\n",
        "#out: 10 loops, best of 3: 49.7 ms per loop\n"
      ],
      "execution_count": 0,
      "outputs": []
    },
    {
      "metadata": {
        "id": "1zXxRoaLLPye",
        "colab_type": "text"
      },
      "cell_type": "markdown",
      "source": [
        "So, [np.arange](https://docs.scipy.org/doc/numpy-1.14.0/reference/generated/numpy.arange.html) is almost **2x as fast** as Python's built-in [range](https://docs.python.org/3/library/functions.html#func-range), even when used just for building a loop index--use it for all your loop needs! <br>\n",
        "When used for a straight mathematical operation, it is almost **50 times faster** <br> \n",
        "Note: in the above example,\n",
        "\n",
        "```\n",
        "%timeit\n",
        "```\n",
        "\n",
        "is 'iPython magic' -- these functions are beyond the scope of this workshop, but as they have default and modifiable integration into Jupyter notebooks, they are worth reading about. <br>\n",
        "<br>\n",
        "For more information, see [Built-in Magic Commands](http://ipython.readthedocs.io/en/stable/interactive/magics.html)"
      ]
    },
    {
      "metadata": {
        "id": "HhM2bfZuP1DA",
        "colab_type": "text"
      },
      "cell_type": "markdown",
      "source": [
        "##Exercise 1\n",
        "Using [np.linspace](https://docs.scipy.org/doc/numpy-1.14.0/reference/generated/numpy.linspace.html), create an *array* of length 1 million (1E6) evenly spaced between '0' and '1E6,'' with '0' omitted. That is, $[1, 2, 3, ... 1*10^6]$ <br>\n",
        "\n",
        "Bonus: use *%timeit* to compare how long it takes to create this *array* VS. how long it takes to create a *list* with the same elements from Python's built-in *range* function.\n",
        "\n",
        "Hint: You may need to index for the *range* function to omit '0'"
      ]
    },
    {
      "metadata": {
        "id": "dtOT6VjmQQk6",
        "colab_type": "code",
        "colab": {
          "autoexec": {
            "startup": false,
            "wait_interval": 0
          }
        }
      },
      "cell_type": "code",
      "source": [
        "million = np.linspace(1,time_size,num=time_size)\n",
        "print((million))\n",
        "\n",
        "%timeit np.linspace(1,time_size,num=time_size)\n",
        "#out: 100 loops, best of 3: 4.33 ms per loop\n",
        "\n",
        "size_thousand = 1001\n",
        "%timeit list(range(time_size))[1:]\n",
        "# 10 loops, best of 3: 41.6 ms per loop"
      ],
      "execution_count": 0,
      "outputs": []
    },
    {
      "metadata": {
        "id": "2CFYEAjtv7-x",
        "colab_type": "text"
      },
      "cell_type": "markdown",
      "source": [
        "## NumPy Speed-up, In General\n"
      ]
    },
    {
      "metadata": {
        "id": "Nxo8TYJmwMFG",
        "colab_type": "text"
      },
      "cell_type": "markdown",
      "source": [
        "More generically, NumPy will save computational (and coding) time if it replaces coding *loops* with *vectorized* (or any higher-dimensional) math."
      ]
    },
    {
      "metadata": {
        "id": "kWLTo8cCxMBS",
        "colab_type": "code",
        "colab": {
          "autoexec": {
            "startup": false,
            "wait_interval": 0
          }
        }
      },
      "cell_type": "code",
      "source": [
        "#modified from https://stackoverflow.com/questions/47755442/what-is-vectorization\n",
        "a40 = np.array([[1., 2., 3.]])\n",
        "print('The array')\n",
        "print(a40)\n",
        "# By default all arithmetic operators (like *) in NumPy are element-wise\n",
        "a4040 = a40 * a40\n",
        "print('The array a40 * a40 (squared) is ')\n",
        "print(a4040)\n",
        "print('%timeit of the operation is')\n",
        "%timeit a40 * a40\n",
        "# out:\n",
        "# Compare this to python math with loops to complete element wise\n",
        "l40 = a40.tolist()[0]\n",
        "sq = [0., 0., 0.] # pre-allocate empty list (for speed)\n",
        "def square(lst,empty):\n",
        "  for i in np.arange(len(l40)): #use np.arange, even!\n",
        "    empty[i] = l40[i] * l40[i]\n",
        "  return empty\n",
        "sq = square(l40,sq)\n",
        "print(sq)\n",
        "%timeit square(l40,sq)\n",
        "#out:"
      ],
      "execution_count": 0,
      "outputs": []
    },
    {
      "metadata": {
        "id": "NZ8QgAxv6AM9",
        "colab_type": "text"
      },
      "cell_type": "markdown",
      "source": [
        "So in general, if you want to speed up your code with NumPy, **avoid loops at all cost**. This includes list-comprehensions (which are loops)--these are included in this workshop for brevity, not for speed."
      ]
    },
    {
      "metadata": {
        "id": "FsnrfyCT4PoM",
        "colab_type": "text"
      },
      "cell_type": "markdown",
      "source": [
        "Note: **Do not expect a non-element-wise operator from the default arithmetic operators.** <br>\n",
        "A common confusion with non-element-wise operations is regarding ```*``` vs. the *dot product*, which is actually given by [np.dot(...)](https://docs.scipy.org/doc/numpy/reference/generated/numpy.dot.html); <br>\n",
        "However, since row and column dimensions are important for linear opertors, you should understand NumPy array dimensionality (that is, *shape*)"
      ]
    },
    {
      "metadata": {
        "id": "3U1a21ojRNAM",
        "colab_type": "text"
      },
      "cell_type": "markdown",
      "source": [
        "# Multidimensional Arrays (and Matrices)"
      ]
    },
    {
      "metadata": {
        "id": "WOue93dsqXaV",
        "colab_type": "text"
      },
      "cell_type": "markdown",
      "source": [
        "You may have noticed earlier, that the *type* of an *array* is\n",
        "\n",
        "```\n",
        "numpy.ndarray\n",
        "```\n",
        "What is an 'ndarray'?<br>\n",
        "This refers to NumPy's exceptional ability to build and perform math on *arrays* of arbitrary (*N*) dimensionality. <br>\n",
        "In more concrete terms: <br>\n",
        "a vector is a 1-D array (as we have been working with) <br>\n",
        "\n",
        "\n",
        "\n"
      ]
    },
    {
      "metadata": {
        "id": "G_9HLGnWriXY",
        "colab_type": "code",
        "colab": {
          "autoexec": {
            "startup": false,
            "wait_interval": 0
          }
        }
      },
      "cell_type": "code",
      "source": [
        "a6 = np.array([1, 2, 3, 4])\n",
        "print(a6)"
      ],
      "execution_count": 0,
      "outputs": []
    },
    {
      "metadata": {
        "id": "r7iCy1b7vX51",
        "colab_type": "text"
      },
      "cell_type": "markdown",
      "source": [
        "Note that every *array* has a *shape* attribute (tuple) that is tied to it. <br>\n",
        "By default, the dimensionality of a given array is as short as possible (1's omitted)"
      ]
    },
    {
      "metadata": {
        "id": "DSOouJcXvgl3",
        "colab_type": "code",
        "colab": {
          "autoexec": {
            "startup": false,
            "wait_interval": 0
          }
        }
      },
      "cell_type": "code",
      "source": [
        "print(a6.shape)"
      ],
      "execution_count": 0,
      "outputs": []
    },
    {
      "metadata": {
        "id": "_Yp8ClDPtRTW",
        "colab_type": "text"
      },
      "cell_type": "markdown",
      "source": [
        "In relation to 2-D matrix math (linear algebra): this 1-D array can be either a column vector or row vector <br>\n",
        "And the most generic  way to enforce the direction of the 1-D vector in 2-D space is with [*np.reshape(...)*](https://docs.scipy.org/doc/numpy-1.14.0/reference/generated/numpy.reshape.html) or with [*array.reshape(...)*](https://docs.scipy.org/doc/numpy-1.14.0/reference/generated/numpy.ndarray.reshape.html#numpy.ndarray.reshape); the latter having slightly easier syntax"
      ]
    },
    {
      "metadata": {
        "id": "chHqbH36t7-G",
        "colab_type": "code",
        "colab": {
          "autoexec": {
            "startup": false,
            "wait_interval": 0
          }
        }
      },
      "cell_type": "code",
      "source": [
        "print(a6.shape)\n",
        "a6 = a6.reshape(4,1) # array.reshape automatically acts on a6\n",
        "print(a6)\n",
        "a6 = np.reshape(a6,(1,4)) #np.reshape is wordy, must be directed at a6\n",
        "print(a6)"
      ],
      "execution_count": 0,
      "outputs": []
    },
    {
      "metadata": {
        "id": "R4XE1p4f3h8f",
        "colab_type": "text"
      },
      "cell_type": "markdown",
      "source": [
        "Now that we've introduced the concept of *array* dimensionality and *shape*, it is worth mentioning that NumPy's ```*``` (and other element-wise operators) follow a strange rule called [broadcasting](https://docs.scipy.org/doc/numpy/user/basics.broadcasting.html) when given two arrays of differing *shapes*. <br>\n",
        "Of course, element-wise operations can only work if the shape of the *arrays* is the same in each dimension. If they are not, it will throw a \n",
        "\n",
        "```\n",
        "ValueError: frames are not aligned\n",
        "```\n",
        "\n",
        "\n",
        "However, **if one of the *array* dimensions is 1 (and the other is greater than 1), the array will be 'stretched' (*tiled*) to match the greater dimension** and the output will be of larger dimensionality than you might have anticipated!"
      ]
    },
    {
      "metadata": {
        "id": "hk_X8Kqv3hXx",
        "colab_type": "code",
        "colab": {
          "autoexec": {
            "startup": false,
            "wait_interval": 0
          }
        }
      },
      "cell_type": "code",
      "source": [
        "a6_h = a6.reshape(4,1)\n",
        "a6_v = a6.T # .T short-hand is an 'attribute' of an array class, described below\n",
        "print('Because of broadcasting, the output is')\n",
        "print(a6_h * a6_v)\n",
        "print('Instead of (as you might have been trying to do)')\n",
        "print(a6_h * a6_v.T)"
      ],
      "execution_count": 0,
      "outputs": []
    },
    {
      "metadata": {
        "id": "aXDm_RLmfGLf",
        "colab_type": "text"
      },
      "cell_type": "markdown",
      "source": [
        "## Aside: class attributes are useful; example Matrix Class\n",
        "Note, in the above example, [*array.T*](https://docs.scipy.org/doc/numpy-1.13.0/reference/generated/numpy.ndarray.T.html#numpy.ndarray.T) is an attribute of arrays utilized to perform a transpose (swapping of dimensions) as a short-hand. <br>\n",
        "This will only work *after* the second dimension has been defined by *array.reshape* <br>\n",
        "These attributes are powerful shorthand (we've already used *dtype* and *shape*) for items of class type *ndarray* <br>\n",
        "Another example attribute of *ndarray*s is [*array.real*](https://docs.scipy.org/doc/numpy-1.13.0/reference/generated/numpy.ndarray.real.html#numpy.ndarray.real) , which saves time when working with complex numbers in taking only the 'real' part of array"
      ]
    },
    {
      "metadata": {
        "id": "DdH1DgYDhr0q",
        "colab_type": "code",
        "colab": {
          "autoexec": {
            "startup": false,
            "wait_interval": 0
          }
        }
      },
      "cell_type": "code",
      "source": [
        "a7 = np.array([3, 1, 4+0.1j, 1, 5-2j, 9, 2, 6+2j, 5])\n",
        "print(a7)\n",
        "print(a7.real)"
      ],
      "execution_count": 0,
      "outputs": []
    },
    {
      "metadata": {
        "id": "_0dOySNuhsAj",
        "colab_type": "text"
      },
      "cell_type": "markdown",
      "source": [
        "Similarly, in relation to matrix math (linear algebra), there is a special *array* class *matrix* which may be called to form a 2-D matrix with [np.mat](https://docs.scipy.org/doc/numpy-1.13.0/reference/generated/numpy.mat.html) <br>\n",
        "This [*matrix*](https://docs.scipy.org/doc/numpy-1.13.0/reference/generated/numpy.matrix.html#numpy.matrix) class will carry its own shorthand attributes that are useful <br>\n",
        "\n",
        "*matrix.T* = transpose\n",
        "\n",
        "*matrix.H* = Hermitian transpose (transpose with complex conjugate) A.H=transpose(A*)\n",
        "\n",
        "*matrix.I* = matrix inverse\n",
        "\n",
        "*matrix.A* = matrix as a basic ndarray\n",
        "\n",
        "*matrix.A1* = matrix as a one-dimensional ndarray"
      ]
    },
    {
      "metadata": {
        "id": "VvzCw9gkhslW",
        "colab_type": "code",
        "colab": {
          "autoexec": {
            "startup": false,
            "wait_interval": 0
          }
        }
      },
      "cell_type": "code",
      "source": [
        "#From Christina Maimone's (NU's Research Computing Services) '17 Numpy/Scipy \n",
        "A = np.mat([[3, 1, 4+0.1j], [1, 5-2j, 9], [2, 6+2j, 5]])\n",
        "\n",
        "print(type(A))\n",
        "\n",
        "A_tr=A.T\n",
        "A_H=A.H\n",
        "A_I=A.I\n",
        "A_A=A.A\n",
        "A_A1=A.A1\n",
        "\n",
        "print('Transpose of A=')\n",
        "print(A_tr)\n",
        "print('Hermitian of A=')\n",
        "print(A_H)\n",
        "print('Inverse of A=')\n",
        "print(A_I)\n",
        "print('Standard ndarray=')\n",
        "print(A_A)\n",
        "print('One dimestional array of A=')\n",
        "print(A_A1)"
      ],
      "execution_count": 0,
      "outputs": []
    },
    {
      "metadata": {
        "id": "-81Cj5EVsrlZ",
        "colab_type": "text"
      },
      "cell_type": "markdown",
      "source": [
        "## 2-D Arrays outside the Matrix Class\n",
        "In a non class-specific sense, a matrix can be thought of as a 2-D *array* where both of the dimensions are strictly greater than 1 <br>\n",
        "This can be formed from the get-go by bracketing comma-separated sets of bracket-ed *arrays* or it can be formed by *array.reshape(...)* on an *array* of different dimensionality <br>"
      ]
    },
    {
      "metadata": {
        "id": "Jveht2OtsvuJ",
        "colab_type": "code",
        "colab": {
          "autoexec": {
            "startup": false,
            "wait_interval": 0
          }
        }
      },
      "cell_type": "code",
      "source": [
        "a8 = np.array([ [1, 2], [3, 4]])\n",
        "print(a8)\n",
        "print(a8.shape)\n",
        "a8 = a6.reshape(2,2)\n",
        "print(a8)\n",
        "print(a8.shape)"
      ],
      "execution_count": 0,
      "outputs": []
    },
    {
      "metadata": {
        "id": "IKJVMV5JSU83",
        "colab_type": "text"
      },
      "cell_type": "markdown",
      "source": [
        "Note that *array.reshape* only works if the dimensions multiply to the overall size of the array <br>\n",
        "That is, in the example above, $\\text{dimension 1 } (\\text{ex. } 2) * \\text{dimension 2 } (\\text{ex. } 2) = \\text{overall size } (\\text{ex. }4)$ <br>\n",
        "You can query the overall size of any *array* with the method [*array.size*](https://docs.scipy.org/doc/numpy-1.13.0/reference/generated/numpy.ndarray.size.html)"
      ]
    },
    {
      "metadata": {
        "id": "i0y7VK5tdCc_",
        "colab_type": "code",
        "colab": {
          "autoexec": {
            "startup": false,
            "wait_interval": 0
          }
        }
      },
      "cell_type": "code",
      "source": [
        "print(a8.size)\n",
        "print(a8.shape[0] * a8.shape[1] == a8.size)"
      ],
      "execution_count": 0,
      "outputs": []
    },
    {
      "metadata": {
        "id": "A73UYfH4RfCh",
        "colab_type": "text"
      },
      "cell_type": "markdown",
      "source": [
        "A note on 'length' vs 'size': <br>\n",
        "The built-in Python function *len* will only return the length of the first dimension of a NumPy *array*<br>\n",
        "When working with any *array*, then, it is safer to use *np.shape* or the method *array.shape()*, and index this tuple to return the length in a specific dimension."
      ]
    },
    {
      "metadata": {
        "id": "a1G6L8wmdgCz",
        "colab_type": "code",
        "colab": {
          "autoexec": {
            "startup": false,
            "wait_interval": 0
          }
        }
      },
      "cell_type": "code",
      "source": [
        "a9 = a8.reshape(1,4)\n",
        "print('It is ' + str(len(a9) == a9.shape[1]) + \n",
        "      ' that the len function reads the 2nd dimension')"
      ],
      "execution_count": 0,
      "outputs": []
    },
    {
      "metadata": {
        "id": "3F0Dw6g-sv-d",
        "colab_type": "text"
      },
      "cell_type": "markdown",
      "source": [
        "In general, dimensionality can be stepped up to any arbitrary N-dimensions (as long as there are enough elements to satisfy to the overall shape) <br>\n",
        "For ex. a 'hypercube' or 'hyperplane' in *N*-dimensional 'hyperspace' will be of *N*-dimensions <br>"
      ]
    },
    {
      "metadata": {
        "id": "L1wsJX84l2OG",
        "colab_type": "text"
      },
      "cell_type": "markdown",
      "source": [
        "## Exercise 2\n",
        "\n",
        "Write a function that creates a N-Dimensional array of zeros. <br>\n",
        "This should take 2 input arguments: <br> (1) the number of dimensions *n* <br>(2) the length of each dimension in a 1-D *np.array*"
      ]
    },
    {
      "metadata": {
        "id": "X1FUmTwuu9Td",
        "colab_type": "code",
        "colab": {
          "autoexec": {
            "startup": false,
            "wait_interval": 0
          }
        }
      },
      "cell_type": "code",
      "source": [
        "Exercise: write a function to create "
      ],
      "execution_count": 0,
      "outputs": []
    },
    {
      "metadata": {
        "id": "EXJrAnAVndKs",
        "colab_type": "text"
      },
      "cell_type": "markdown",
      "source": [
        "In fact, there are already several NumPy functions for creating common *N*-dimensional arrays; for example, [np.identity](https://docs.scipy.org/doc/numpy-1.14.0/reference/generated/numpy.identity.html) returns the square identity matrix $I$ which is useful in matrix math (for ex. it can be used to verify the inverse of a matrix as $ I = AA^{-1}$)"
      ]
    },
    {
      "metadata": {
        "id": "WOHwjYSroEoc",
        "colab_type": "code",
        "colab": {
          "autoexec": {
            "startup": false,
            "wait_interval": 0
          }
        }
      },
      "cell_type": "code",
      "source": [
        "A_test=A*A.I\n",
        "print(np.all(np.isclose(A_test, np.identity(3)),axis=0))\n",
        "# Boolean operation np.all is described below"
      ],
      "execution_count": 0,
      "outputs": []
    },
    {
      "metadata": {
        "id": "FBevWwxt-OxM",
        "colab_type": "text"
      },
      "cell_type": "markdown",
      "source": [
        "Note: The function [np.isclose](https://docs.scipy.org/doc/numpy/reference/generated/numpy.isclose.html) is useful for comparing whether two arrays or values are equal within a certain tolerance <br>\n",
        "For example, because of differences in floating point precision\n",
        "\n",
        "```\n",
        "array1 == array2\n",
        "```\n",
        "May return ```False``` even if the arrays are filled with floating point numbers while ```np.isclose(...)``` would return ```True```<br> <br>\n",
        "The above code could have been simplified to a single functional call of [np.allclose(...)](https://docs.scipy.org/doc/numpy/reference/generated/numpy.allclose.html#numpy.allclose), but bringing up ```np.all()``` gives us a reason to discuss Booleans in Numpy\n"
      ]
    },
    {
      "metadata": {
        "id": "83WcP-CM-C_I",
        "colab_type": "text"
      },
      "cell_type": "markdown",
      "source": [
        "# NumPy Booleans"
      ]
    },
    {
      "metadata": {
        "id": "7dYbUvBF_APK",
        "colab_type": "text"
      },
      "cell_type": "markdown",
      "source": [
        "But there is another reason you can't use ```array1 == array2```<br>\n",
        "To understand this, let's analyze\n",
        "\n",
        "```\n",
        "print(np.all(np.isclose(A_test, np.identity(3)),axis=0))\n",
        "```\n",
        "We discussed ```np.isclose(...)``` but not ```np.all(...)``` <br> <br>\n",
        "Just like there are NumPy functions for vector math on arrays, there are also NumPy for boolean interpretation of arrays. <br>\n",
        "The main take-home, though, is that **NumPy booleans are not Python booleans (and vice-versa)**--therefore **use [Numpy boolean functions](https://docs.scipy.org/doc/numpy-1.13.0/reference/routines.logic.html) instead of built-in boolean functions** (like ```or``` or ```in```) to stay out of trouble <br> <br>\n",
        "For example, [np.all(...)](https://docs.scipy.org/doc/numpy-1.13.0/reference/generated/numpy.all.html#numpy.all) in the example above tests whether all array elements along a given axis ('axis=0' in above ex.) evaluates to True. What if we did 'axis=1'?:\n",
        "\n"
      ]
    },
    {
      "metadata": {
        "id": "zZ6jxlgbA2gY",
        "colab_type": "code",
        "colab": {
          "autoexec": {
            "startup": false,
            "wait_interval": 0
          }
        }
      },
      "cell_type": "code",
      "source": [
        "A_test=A*A.I\n",
        "# First evaluate np.isclose(A_test, np.identiy(3))\n",
        "print('np.isclose(...) is element-wise, returning a Matrix of the same shape')\n",
        "is_close = np.isclose(A_test,np.identity(3))\n",
        "print(is_close) # Note: this element-wise\n",
        "# Next, evaluate np.all to evaluate whether all is True along 1 dimension (axis)\n",
        "all_ax1 = np.all(is_close, axis=1)\n",
        "print('Evaluating on the other axis...')\n",
        "print(all_ax1)\n",
        "print('The above returns a Boolean array, rather than a scalar')\n",
        "# The last statement evaluates the 1D vector with np.all, doesn't need 'axis='\n",
        "all_all_ax1 = np.all(all_ax1)\n",
        "print('To get a single Boolean value, like...')\n",
        "print(all_all_ax1)\n",
        "print('we had to apply np.all() again')"
      ],
      "execution_count": 0,
      "outputs": []
    },
    {
      "metadata": {
        "id": "siRz0se0ZnC4",
        "colab_type": "text"
      },
      "cell_type": "markdown",
      "source": [
        "So you see how Booleans evaluations (conditionals) can be *vectorized* in NumPy--and, indeed, NumPy expects it! If you try Python logic on an array, like\n",
        "\n",
        "```\n",
        "True == all_ax1\n",
        "```\n",
        "It will return an  error message <br>\n",
        "```The truth value of an array with more than one element is ambiguous. Use a.any() or a.all()```<br>\n",
        "\n",
        "[np.any(...)](https://docs.scipy.org/doc/numpy-1.13.0/reference/generated/numpy.all.html#numpy.all) is the vector equivalent of \n",
        "```\n",
        "True in all_ax1\n",
        "```\n",
        "That is, if it occurs once (across that axis), it will evaluate as True <br><br>\n",
        "Perhaps the most useful task you can acheive with a Boolean *N-D array* is as a 'mask' (acting like indices) to filter an *array* of the same dimensionality.<br>\n",
        "For this, [np.where(...)](https://docs.scipy.org/doc/numpy/reference/generated/numpy.where.html) is invaluable; it is a vectorized (element-wise) version of the satement:  ```x``` if ```condition is True``` else ```y``` with the format\n",
        "\n",
        "```\n",
        "np.where(condition, x, y)\n",
        "```\n",
        "\n",
        "\n",
        "\n",
        "\n"
      ]
    },
    {
      "metadata": {
        "id": "zLJd46UEizrt",
        "colab_type": "code",
        "colab": {
          "autoexec": {
            "startup": false,
            "wait_interval": 0
          }
        }
      },
      "cell_type": "code",
      "source": [
        "arr=np.random.randn(4,4)\n",
        "print(arr)\n",
        "mask_int = np.where(arr > 0, 1, 0)\n",
        "# Unfortunately, this will not work as mask as it is not a Boolean type in NumPy\n",
        "#arr[mask_int] indexes arr quite strangely\n",
        "mask_bool = mask_int.astype(np.bool)\n",
        "print('The positive elements in the array are')\n",
        "print(arr[mask_bool])"
      ],
      "execution_count": 0,
      "outputs": []
    },
    {
      "metadata": {
        "id": "SXT8q6k7d6Tr",
        "colab_type": "text"
      },
      "cell_type": "markdown",
      "source": [
        "##Exercise 3\n",
        "Given the two following 2-D *arrays*, use *np.where(...)* and *np.isclose()* to evaluate where they are equal and return a 0 if they are, or else return a 1 (basically inverting the Boolean array *np.isclose()* normally returns). <br>\n",
        "Use the output as a 'mask' to select the un-matching elements from either array."
      ]
    },
    {
      "metadata": {
        "id": "edvkibPLeq8y",
        "colab_type": "code",
        "colab": {
          "autoexec": {
            "startup": false,
            "wait_interval": 0
          }
        }
      },
      "cell_type": "code",
      "source": [
        "a10 = np.random.randn(4, 4)\n",
        "np.fill_diagonal(a10, 1.)\n",
        "a11 = np.random.randn(4, 4)\n",
        "np.fill_diagonal(a11, 1.)\n",
        "print('a10 is')\n",
        "print(a10)\n",
        "print('a11 is')\n",
        "print(a11)\n",
        "\n",
        "a_mask = np.not_equal(a10,a11)\n",
        "\n",
        "print(a10[a_mask])\n",
        "print(a11[a_mask])\n"
      ],
      "execution_count": 0,
      "outputs": []
    },
    {
      "metadata": {
        "id": "HowphD4HpFWF",
        "colab_type": "text"
      },
      "cell_type": "markdown",
      "source": [
        "# 'Random' Sampling"
      ]
    },
    {
      "metadata": {
        "id": "-jHo163qibAh",
        "colab_type": "text"
      },
      "cell_type": "markdown",
      "source": [
        "The NumPy routine for handling/generating random events, numbers, etc. is [numpy.random](https://docs.scipy.org/doc/numpy-1.14.0/reference/routines.random.html)\n",
        "\n",
        "Because there are sub-functions for the random routine, e.g. ([random.random_sample(...)](https://docs.scipy.org/doc/numpy-1.14.0/reference/generated/numpy.random.random_sample.html#numpy.random.random_sample)) it is often useful to import *np.random* as 'random' (or as *) to make calls to this routine shorter"
      ]
    },
    {
      "metadata": {
        "id": "sJ5hllVgk01K",
        "colab_type": "code",
        "colab": {
          "autoexec": {
            "startup": false,
            "wait_interval": 0
          }
        }
      },
      "cell_type": "code",
      "source": [
        "import numpy.random as random"
      ],
      "execution_count": 0,
      "outputs": []
    },
    {
      "metadata": {
        "id": "OrLfk9pCk3cO",
        "colab_type": "text"
      },
      "cell_type": "markdown",
      "source": [
        "Randomness is extremely useful in numerical evaluations, simulations, and algorithms in general.\n",
        "\n",
        "For example, if we want to randomly sample from an array, we would use [numpy.random.choice(...)](https://docs.scipy.org/doc/numpy-1.14.0/reference/generated/numpy.random.choice.html#numpy.random.choice)\n",
        "\n",
        "Note: this needs a 1-D array"
      ]
    },
    {
      "metadata": {
        "id": "yk052lelk4Zs",
        "colab_type": "code",
        "colab": {
          "autoexec": {
            "startup": false,
            "wait_interval": 0
          }
        }
      },
      "cell_type": "code",
      "source": [
        "random_sample = np.array(random.choice(a6.reshape(4,),size=20))\n",
        "print(random_sample)\n",
        "  \n",
        "# or return as an array in a list comprehension\n",
        "print(np.array([random.choice(a6.reshape(4,)) for i in np.arange(20)]))"
      ],
      "execution_count": 0,
      "outputs": []
    },
    {
      "metadata": {
        "id": "VsjiGbMOmxN9",
        "colab_type": "text"
      },
      "cell_type": "markdown",
      "source": [
        "What you'll notice by comparing with another workshop attendee or by running the above cell multiple times is that this sequence of samples appears truly random for each instance. <br>\n",
        "However, at times (especially when comparing or testing code), it is more useful when randomness can be repeated. <br>\n",
        "Because *numpy.random* works from a [pseudo-random number generator](https://en.wikipedia.org/wiki/Pseudorandom_number_generator) (PRNG, specifically the [Mersenne Twister](https://en.wikipedia.org/wiki/Mersenne_Twister) algorithm), it can return the same 'random sample' repeatedly by fixing the 'seed' for the PRNG. This is done with [numpy.random.seed(...)](https://docs.scipy.org/doc/numpy-1.14.0/reference/generated/numpy.random.seed.html#numpy.random.seed) "
      ]
    },
    {
      "metadata": {
        "id": "gZtVyItZpJri",
        "colab_type": "code",
        "colab": {
          "autoexec": {
            "startup": false,
            "wait_interval": 0
          }
        }
      },
      "cell_type": "code",
      "source": [
        "print('A random sample can be recreated with fidelity by fixing the seed')\n",
        "for i in np.arange(5):\n",
        "  random.seed(seed = 51)\n",
        "  random_sample = np.array(random.choice(a6.reshape(4,),size=20))\n",
        "  print(random_sample)"
      ],
      "execution_count": 0,
      "outputs": []
    },
    {
      "metadata": {
        "id": "RmWRYIABrIuh",
        "colab_type": "text"
      },
      "cell_type": "markdown",
      "source": [
        "Another important feature of random sampling from a pre-existing array is the option to *replace* while sampling. <br>\n",
        "By default, this option is true, so technically the *np.random.choice(...)* sampling performs [bootstrapping](https://en.wikipedia.org/wiki/Bootstrapping_(statistics), which is a powerful method in statistics. <br>\n",
        "When *replace=False*, the length of the sample size must be less than the length of the array."
      ]
    },
    {
      "metadata": {
        "id": "qmCwCYONtGyE",
        "colab_type": "code",
        "colab": {
          "autoexec": {
            "startup": false,
            "wait_interval": 0
          }
        }
      },
      "cell_type": "code",
      "source": [
        "random_sample = np.array(random.choice(a6.reshape(4,),size=4, replace=False))\n",
        "print(random_sample)\n",
        "\n",
        "# Uncommenting the below code will give an error due to the size of the sample\n",
        "# random_sample = np.array(random.choice(a6.reshape(4,),size=20, replace=False))\n",
        "# print(random_sample)"
      ],
      "execution_count": 0,
      "outputs": []
    },
    {
      "metadata": {
        "id": "rHwjs5zjtyUP",
        "colab_type": "text"
      },
      "cell_type": "markdown",
      "source": [
        "Another example:\n",
        "Say you don't have an array to sample from, but rather only know a range of numbers or distribution limits you'd like to sample from: *numpy.random* is still useful for randomly sampling. <br>\n",
        "The most generic method for this is the aptly-named [np.random.random_sample(...)](https://docs.scipy.org/doc/numpy-1.14.0/reference/generated/numpy.random.random_sample.html#numpy.random.random_sample) <br>\n",
        "This 'returns random floats in the half-open interval [0, 1)' (1 not inclusive)"
      ]
    },
    {
      "metadata": {
        "id": "mk80WmZLu4Xd",
        "colab_type": "code",
        "colab": {
          "autoexec": {
            "startup": false,
            "wait_interval": 0
          }
        }
      },
      "cell_type": "code",
      "source": [
        "print(random.random_sample(size=10))"
      ],
      "execution_count": 0,
      "outputs": []
    },
    {
      "metadata": {
        "id": "YaH5LB95vISi",
        "colab_type": "text"
      },
      "cell_type": "markdown",
      "source": [
        "Note: this function is redundant with* np.random.random(...)*, *np.random.ranf(...)*, and *np.random.sample(...)* <br>\n",
        "<br>\n",
        "Okay...but let's say you want your sampling from '2' to '10' aka [2, 10)<br>\n",
        "Just multiply the random.random_sample by '(b -a)' and add the offset 'a'"
      ]
    },
    {
      "metadata": {
        "id": "VOZuX2fPv6HX",
        "colab_type": "code",
        "colab": {
          "autoexec": {
            "startup": false,
            "wait_interval": 0
          }
        }
      },
      "cell_type": "code",
      "source": [
        "b = 10.\n",
        "a = 2.\n",
        "sample_2_10 = (10.-2.)*random.random_sample(size=10) + 2.\n",
        "print(sample_2_10)\n",
        "# and if you wanted these to be rounded to integers...\n",
        "print(np.array([int(sample_2_10[i]) for i in np.arange(np.size(sample_2_10))]))\n",
        "# or you could just use np.floor to round down (or np.ceil to round up)\n",
        "print(np.floor(sample_2_10).astype(int))\n"
      ],
      "execution_count": 0,
      "outputs": []
    },
    {
      "metadata": {
        "id": "UM3vOtjSzKPK",
        "colab_type": "text"
      },
      "cell_type": "markdown",
      "source": [
        "There is also [np.random.randint(...)](https://docs.scipy.org/doc/numpy-1.14.0/reference/generated/numpy.random.randint.html#numpy.random.randint) and [np.random.random_integers(...)](https://docs.scipy.org/doc/numpy-1.14.0/reference/generated/numpy.random.random_integers.html#numpy.random.random_integers) for similar behavior to that last line of code. <br>\n",
        "<br>\n",
        "Cool...but often a uniform probability distribution is not useful. <br>\n",
        "Thankfully, *numpy.random* has 35 built-in distributions from which you can sample. <br>\n",
        "For example, one of the most common distributions, the 'Normal' (Gaussian) distribution, has its own random sampling function ([np.random.randn(...)](https://docs.scipy.org/doc/numpy-1.14.0/reference/generated/numpy.random.randn.html#numpy.random.randn)) that is redundant with [np.random.normal(...)](https://docs.scipy.org/doc/numpy-1.14.0/reference/generated/numpy.random.normal.html#numpy.random.normal)."
      ]
    },
    {
      "metadata": {
        "id": "m4dB1bSj2HVE",
        "colab_type": "code",
        "colab": {
          "autoexec": {
            "startup": false,
            "wait_interval": 0
          }
        }
      },
      "cell_type": "code",
      "source": [
        "# for plotting\n",
        "import pylab as pl\n",
        "#%pylab inline\n",
        "\n",
        "#for sampling from the normal (gaussian) distribution\n",
        "random.seed(6) # note: same as random.seed(seed = 6)\n",
        "mu, sigma = 0.1, 1.\n",
        "n_dist = random.normal(mu, sigma, 500)\n",
        "\n",
        "#for sampling from cauchy (lorentzian) distribution\n",
        "random.seed(6)\n",
        "c_dist = random.standard_cauchy(120)\n",
        "\n",
        "pl.hist(n_dist)\n",
        "pl.hist(c_dist,45)\n",
        "pl.show() #not strictly necessary with %pylab inline, but removes some print-out"
      ],
      "execution_count": 0,
      "outputs": []
    },
    {
      "metadata": {
        "id": "ajupZHFDSBi_",
        "colab_type": "text"
      },
      "cell_type": "markdown",
      "source": [
        "Great...but what if you wan't to use a non-standard cauchy distribution? (one not centered on zero and with gamma variance greater than 1) <br>\n",
        "<br>\n",
        "First, in these calls of *random.normal*, note that we have been using shorthand\n",
        "\n",
        "```\n",
        "random.normal(mu, sigma, 500)\n",
        "```\n",
        "which is really\n",
        "\n",
        "```\n",
        "random.normal(loc = mu, scale = sigma, size = 500)\n",
        "```\n",
        "the ```loc``` and ```scale``` keywords are, in general, related to the statistical variables that determine the center (ex. 'mean' for Normal) and variance (ex. 'beta' for Cauchy). <br>\n",
        "Back to the question: to sample from a non-standard cauchy distribution, we'll need **SciPy**, namely [scipy.stats.cauchy(...)](https://docs.scipy.org/doc/scipy/reference/generated/scipy.stats.cauchy.html) which has the ```rvs()``` method for random-variable sampling.\n",
        "\n",
        "\n",
        "\n",
        "\n"
      ]
    },
    {
      "metadata": {
        "id": "0VKwhMsfaZUm",
        "colab_type": "code",
        "colab": {
          "autoexec": {
            "startup": false,
            "wait_interval": 0
          }
        }
      },
      "cell_type": "code",
      "source": [
        "import scipy.stats\n",
        "from scipy.stats import cauchy\n",
        "\n",
        "random.seed(6)\n",
        "c_dist = random.standard_cauchy(120)\n",
        "\n",
        "random.seed(6)\n",
        "c_dist2 = scipy.stats.cauchy.rvs(loc=100, scale=2.5, size=120)\n",
        "pl.hist(c_dist,5)\n",
        "pl.hist(c_dist2,45)\n",
        "pl.show()\n",
        "print(type(scipy.stats.cauchy))"
      ],
      "execution_count": 0,
      "outputs": []
    },
    {
      "metadata": {
        "id": "3AttA1w_bnEW",
        "colab_type": "text"
      },
      "cell_type": "markdown",
      "source": [
        "There are a multitude of other statistical applications that can be evaluated with ```scipy.stats```; for example, on any specific continuous distribution (in this case of the *rv_continuous* class, the mean, variance, skewness, and kurtusis can be readily generated.\n",
        "\n"
      ]
    },
    {
      "metadata": {
        "id": "S5AQ0_AHcalP",
        "colab_type": "code",
        "colab": {
          "autoexec": {
            "startup": false,
            "wait_interval": 0
          }
        }
      },
      "cell_type": "code",
      "source": [
        "mean, var, skew, kurt = scipy.stats.norm.stats(moments='mvsk')\n",
        "print('The mean of the normal distribution is ' + str(mean))\n",
        "print('The variance of the normal distribution is ' + str(var))\n",
        "print('The skew of the normal distribution is ' + str(skew))\n",
        "print('The kurtosis of the normal distribution is ' + str(kurt))"
      ],
      "execution_count": 0,
      "outputs": []
    },
    {
      "metadata": {
        "id": "-7UBr0DMgW-S",
        "colab_type": "text"
      },
      "cell_type": "markdown",
      "source": [
        "The additional method ```stats``` is specific to the ```rv_continuous``` class. If there is a distribution you can't find in ```numpy.random``` or ```scipy.stats```, you can actually generate a custom one."
      ]
    },
    {
      "metadata": {
        "id": "ii59S_NWhA3L",
        "colab_type": "code",
        "colab": {
          "autoexec": {
            "startup": false,
            "wait_interval": 0
          }
        }
      },
      "cell_type": "code",
      "source": [
        "from scipy.stats import rv_continuous #import rv_continuous class\n",
        "\n",
        "class gaussian_gen(rv_continuous):\n",
        "  \"Gaussian distribution\"                           #comment describing function\n",
        "  def _pdf(self, x):                       #rewrites the pdf method to be called\n",
        "    return np.exp(-x**2 / 2.) / np.sqrt(2.0 * np.pi) #The custom function\n",
        "\n",
        "\n",
        "custom_gauss = gaussian_gen() #instance created for custom rv_continuous class\n",
        "n_dist2 = custom_gauss.rvs(size = 500) #instance method .rvs\n",
        "pl.hist(n_dist)\n",
        "pl.hist(n_dist2)\n",
        "pl.show()"
      ],
      "execution_count": 0,
      "outputs": []
    },
    {
      "metadata": {
        "id": "QDNU34BZkBn9",
        "colab_type": "text"
      },
      "cell_type": "markdown",
      "source": [
        "# Creating + Fitting 'Noisy' Data "
      ]
    },
    {
      "metadata": {
        "id": "Zi5lqOMVLSzA",
        "colab_type": "text"
      },
      "cell_type": "markdown",
      "source": [
        "NumPy also has many built-in math functions. Trigonometric expressions like [np.sin](https://docs.scipy.org/doc/numpy/reference/generated/numpy.sin.html) can be called on numpy *array* for instance."
      ]
    },
    {
      "metadata": {
        "id": "ii6jSfQyLy7S",
        "colab_type": "code",
        "colab": {
          "autoexec": {
            "startup": false,
            "wait_interval": 0
          }
        }
      },
      "cell_type": "code",
      "source": [
        "x = np.linspace(0, 2*np.pi, 101) #array of 101 pts evenly spaced from 0 to 2pi\n",
        "y = np.sin(x) # apply trig sine function to array\n",
        "pl.plot(x, y) # plot\n",
        "pl.show()"
      ],
      "execution_count": 0,
      "outputs": []
    },
    {
      "metadata": {
        "id": "qN9BsarcMpL1",
        "colab_type": "text"
      },
      "cell_type": "markdown",
      "source": [
        "Now, let's say we want to add noise to this data to simulate real data that one might collect from an instrument.\n",
        "\n",
        "We can do this with the np.random routine."
      ]
    },
    {
      "metadata": {
        "id": "e25r3tuqNU6b",
        "colab_type": "code",
        "colab": {
          "autoexec": {
            "startup": false,
            "wait_interval": 0
          }
        }
      },
      "cell_type": "code",
      "source": [
        "random.seed(51)\n",
        "noisy_y = random.normal(loc = np.sin(x), scale = 0.3) # Gaussian noise add to y\n",
        "pl.plot(x, noisy_y, 'o') # plot\n",
        "pl.show()"
      ],
      "execution_count": 0,
      "outputs": []
    },
    {
      "metadata": {
        "id": "J9R-SMogO1yp",
        "colab_type": "text"
      },
      "cell_type": "markdown",
      "source": [
        "Now the data generated from a continuous function acting on discrete points looks realistically noisy. <br> <br>\n",
        "Imagine this were from an experiment, you might want to 'fit' it with some form of regression (going from discrete points back to a continuous function).<br>\n",
        "NumPy has some black-box functions for regression, the most common of which are based on least-squares fitting (minimizing the square of the residual between the data and fit). <br>\n",
        "A particularly easy one to use (if we naively assume the data is representative of a polynomial) is [np.polyfit(...)](https://docs.scipy.org/doc/numpy/reference/generated/numpy.polyfit.html)--used to perform a least-squares polynomial fit--and [np.poly1d](https://docs.scipy.org/doc/numpy/reference/generated/numpy.poly1d.html)--used to calculate a new *y* from the fit.\n"
      ]
    },
    {
      "metadata": {
        "id": "hQrC07DFR0LW",
        "colab_type": "code",
        "colab": {
          "autoexec": {
            "startup": false,
            "wait_interval": 0
          }
        }
      },
      "cell_type": "code",
      "source": [
        "fit_obj = np.polyfit(x, noisy_y, 3) #perform least-squares fit\n",
        "fit_fn = np.poly1d(fit_obj) #generate function parameters\n",
        "fit_y = fit_fn(x) # apply function to x to generate fit y\n",
        "pl.plot(x, noisy_y, 'o') #plot as 'o' dots\n",
        "pl.plot(x, fit_y, 'r') #plot as red 'r' line\n",
        "pl.show()"
      ],
      "execution_count": 0,
      "outputs": []
    },
    {
      "metadata": {
        "id": "jaEWXvw8SyKu",
        "colab_type": "text"
      },
      "cell_type": "markdown",
      "source": [
        "This looks pretty good! But, of course, knowing that this was generated from a sine function, outside of these bounds the fit would be rather poor. <br>\n",
        "A more general alternative (does not assume polynomial functional form) is np.curve_fit, but for that you must know the function *f* already!<br>\n"
      ]
    },
    {
      "metadata": {
        "id": "vdK-OuSoU5Wl",
        "colab_type": "code",
        "colab": {
          "autoexec": {
            "startup": false,
            "wait_interval": 0
          }
        }
      },
      "cell_type": "code",
      "source": [
        ""
      ],
      "execution_count": 0,
      "outputs": []
    },
    {
      "metadata": {
        "id": "nK91WzsUVWnR",
        "colab_type": "text"
      },
      "cell_type": "markdown",
      "source": [
        "An alternative, but slightly more computationally expensive procedure for performing regression could utilize singular value decomposition with "
      ]
    }
  ]
}